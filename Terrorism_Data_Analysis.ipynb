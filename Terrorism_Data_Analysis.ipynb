{
  "cells": [
    {
      "cell_type": "markdown",
      "metadata": {
        "id": "UPNrA_G1Pwp4"
      },
      "source": [
        "# **`Exploratory Data Analysis on Global Terrorism Dataset`**"
      ]
    },
    {
      "cell_type": "markdown",
      "metadata": {
        "id": "9nW1-HbxP-3D"
      },
      "source": [
        "## **Importing Libraries**"
      ]
    },
    {
      "cell_type": "code",
      "execution_count": null,
      "metadata": {
        "id": "klzMVs_SQFeE"
      },
      "outputs": [],
      "source": [
        "import numpy as np\n",
        "import pandas as pd\n",
        "import seaborn as sns\n",
        "import matplotlib.pyplot as plt\n",
        "import warnings\n",
        "warnings.filterwarnings(\"ignore\")"
      ]
    },
    {
      "cell_type": "markdown",
      "metadata": {
        "id": "3hDh7l8-ShBW"
      },
      "source": [
        "After importing all the important Libraries, import warning is needed for to **ignore to just ignore all the warnings.**"
      ]
    },
    {
      "cell_type": "markdown",
      "metadata": {
        "id": "p6aK91xlT-s0"
      },
      "source": [
        "**Importing Terrorism Dataset**"
      ]
    },
    {
      "cell_type": "code",
      "execution_count": null,
      "metadata": {
        "colab": {
          "base_uri": "https://localhost:8080/",
          "height": 838
        },
        "id": "9XqLO6dqUHI1",
        "outputId": "955b859d-2d04-4821-fd77-78fce1e170bd"
      },
      "outputs": [
        {
          "output_type": "execute_result",
          "data": {
            "text/plain": [
              "        eventid  iyear  imonth  iday approxdate  extended resolution  country  \\\n",
              "0  197000000001   1970       7     2        NaN         0        NaN       58   \n",
              "1  197000000002   1970       0     0        NaN         0        NaN      130   \n",
              "2  197001000001   1970       1     0        NaN         0        NaN      160   \n",
              "3  197001000002   1970       1     0        NaN         0        NaN       78   \n",
              "4  197001000003   1970       1     0        NaN         0        NaN      101   \n",
              "5  197001010002   1970       1     1        NaN         0        NaN      217   \n",
              "6  197001020001   1970       1     2        NaN         0        NaN      218   \n",
              "7  197001020002   1970       1     2        NaN         0        NaN      217   \n",
              "8  197001020003   1970       1     2        NaN         0        NaN      217   \n",
              "9  197001030001   1970       1     3        NaN         0        NaN      217   \n",
              "\n",
              "          country_txt  region  ...  \\\n",
              "0  Dominican Republic       2  ...   \n",
              "1              Mexico       1  ...   \n",
              "2         Philippines       5  ...   \n",
              "3              Greece       8  ...   \n",
              "4               Japan       4  ...   \n",
              "5       United States       1  ...   \n",
              "6             Uruguay       3  ...   \n",
              "7       United States       1  ...   \n",
              "8       United States       1  ...   \n",
              "9       United States       1  ...   \n",
              "\n",
              "                                            addnotes  \\\n",
              "0                                                NaN   \n",
              "1                                                NaN   \n",
              "2                                                NaN   \n",
              "3                                                NaN   \n",
              "4                                                NaN   \n",
              "5  The Cairo Chief of Police, William Petersen, r...   \n",
              "6                                                NaN   \n",
              "7  Damages were estimated to be between $20,000-$...   \n",
              "8  The New Years Gang issue a communiqué to a loc...   \n",
              "9  Karl Armstrong's girlfriend, Lynn Schultz, dro...   \n",
              "\n",
              "                                              scite1  \\\n",
              "0                                                NaN   \n",
              "1                                                NaN   \n",
              "2                                                NaN   \n",
              "3                                                NaN   \n",
              "4                                                NaN   \n",
              "5  \"Police Chief Quits,\" Washington Post, January...   \n",
              "6                                                NaN   \n",
              "7  Committee on Government Operations United Stat...   \n",
              "8  Tom Bates, \"Rads: The 1970 Bombing of the Army...   \n",
              "9  Committee on Government Operations United Stat...   \n",
              "\n",
              "                                              scite2  \\\n",
              "0                                                NaN   \n",
              "1                                                NaN   \n",
              "2                                                NaN   \n",
              "3                                                NaN   \n",
              "4                                                NaN   \n",
              "5  \"Cairo Police Chief Quits; Decries Local 'Mili...   \n",
              "6                                                NaN   \n",
              "7  Christopher Hewitt, \"Political Violence and Te...   \n",
              "8  David Newman, Sandra Sutherland, and Jon Stewa...   \n",
              "9  Tom Bates, \"Rads: The 1970 Bombing of the Army...   \n",
              "\n",
              "                                              scite3        dbsource  INT_LOG  \\\n",
              "0                                                NaN            PGIS        0   \n",
              "1                                                NaN            PGIS        0   \n",
              "2                                                NaN            PGIS       -9   \n",
              "3                                                NaN            PGIS       -9   \n",
              "4                                                NaN            PGIS       -9   \n",
              "5  Christopher Hewitt, \"Political Violence and Te...  Hewitt Project       -9   \n",
              "6                                                NaN            PGIS        0   \n",
              "7                                                NaN  Hewitt Project       -9   \n",
              "8  The Wisconsin Cartographers' Guild, \"Wisconsin...  Hewitt Project        0   \n",
              "9  David Newman, Sandra Sutherland, and Jon Stewa...  Hewitt Project        0   \n",
              "\n",
              "   INT_IDEO INT_MISC INT_ANY  related  \n",
              "0         0        0       0      NaN  \n",
              "1         1        1       1      NaN  \n",
              "2        -9        1       1      NaN  \n",
              "3        -9        1       1      NaN  \n",
              "4        -9        1       1      NaN  \n",
              "5        -9        0      -9      NaN  \n",
              "6         0        0       0      NaN  \n",
              "7        -9        0      -9      NaN  \n",
              "8         0        0       0      NaN  \n",
              "9         0        0       0      NaN  \n",
              "\n",
              "[10 rows x 135 columns]"
            ],
            "text/html": [
              "\n",
              "  <div id=\"df-b36acc03-b6e2-4060-9c6f-8218b237ae8d\">\n",
              "    <div class=\"colab-df-container\">\n",
              "      <div>\n",
              "<style scoped>\n",
              "    .dataframe tbody tr th:only-of-type {\n",
              "        vertical-align: middle;\n",
              "    }\n",
              "\n",
              "    .dataframe tbody tr th {\n",
              "        vertical-align: top;\n",
              "    }\n",
              "\n",
              "    .dataframe thead th {\n",
              "        text-align: right;\n",
              "    }\n",
              "</style>\n",
              "<table border=\"1\" class=\"dataframe\">\n",
              "  <thead>\n",
              "    <tr style=\"text-align: right;\">\n",
              "      <th></th>\n",
              "      <th>eventid</th>\n",
              "      <th>iyear</th>\n",
              "      <th>imonth</th>\n",
              "      <th>iday</th>\n",
              "      <th>approxdate</th>\n",
              "      <th>extended</th>\n",
              "      <th>resolution</th>\n",
              "      <th>country</th>\n",
              "      <th>country_txt</th>\n",
              "      <th>region</th>\n",
              "      <th>...</th>\n",
              "      <th>addnotes</th>\n",
              "      <th>scite1</th>\n",
              "      <th>scite2</th>\n",
              "      <th>scite3</th>\n",
              "      <th>dbsource</th>\n",
              "      <th>INT_LOG</th>\n",
              "      <th>INT_IDEO</th>\n",
              "      <th>INT_MISC</th>\n",
              "      <th>INT_ANY</th>\n",
              "      <th>related</th>\n",
              "    </tr>\n",
              "  </thead>\n",
              "  <tbody>\n",
              "    <tr>\n",
              "      <th>0</th>\n",
              "      <td>197000000001</td>\n",
              "      <td>1970</td>\n",
              "      <td>7</td>\n",
              "      <td>2</td>\n",
              "      <td>NaN</td>\n",
              "      <td>0</td>\n",
              "      <td>NaN</td>\n",
              "      <td>58</td>\n",
              "      <td>Dominican Republic</td>\n",
              "      <td>2</td>\n",
              "      <td>...</td>\n",
              "      <td>NaN</td>\n",
              "      <td>NaN</td>\n",
              "      <td>NaN</td>\n",
              "      <td>NaN</td>\n",
              "      <td>PGIS</td>\n",
              "      <td>0</td>\n",
              "      <td>0</td>\n",
              "      <td>0</td>\n",
              "      <td>0</td>\n",
              "      <td>NaN</td>\n",
              "    </tr>\n",
              "    <tr>\n",
              "      <th>1</th>\n",
              "      <td>197000000002</td>\n",
              "      <td>1970</td>\n",
              "      <td>0</td>\n",
              "      <td>0</td>\n",
              "      <td>NaN</td>\n",
              "      <td>0</td>\n",
              "      <td>NaN</td>\n",
              "      <td>130</td>\n",
              "      <td>Mexico</td>\n",
              "      <td>1</td>\n",
              "      <td>...</td>\n",
              "      <td>NaN</td>\n",
              "      <td>NaN</td>\n",
              "      <td>NaN</td>\n",
              "      <td>NaN</td>\n",
              "      <td>PGIS</td>\n",
              "      <td>0</td>\n",
              "      <td>1</td>\n",
              "      <td>1</td>\n",
              "      <td>1</td>\n",
              "      <td>NaN</td>\n",
              "    </tr>\n",
              "    <tr>\n",
              "      <th>2</th>\n",
              "      <td>197001000001</td>\n",
              "      <td>1970</td>\n",
              "      <td>1</td>\n",
              "      <td>0</td>\n",
              "      <td>NaN</td>\n",
              "      <td>0</td>\n",
              "      <td>NaN</td>\n",
              "      <td>160</td>\n",
              "      <td>Philippines</td>\n",
              "      <td>5</td>\n",
              "      <td>...</td>\n",
              "      <td>NaN</td>\n",
              "      <td>NaN</td>\n",
              "      <td>NaN</td>\n",
              "      <td>NaN</td>\n",
              "      <td>PGIS</td>\n",
              "      <td>-9</td>\n",
              "      <td>-9</td>\n",
              "      <td>1</td>\n",
              "      <td>1</td>\n",
              "      <td>NaN</td>\n",
              "    </tr>\n",
              "    <tr>\n",
              "      <th>3</th>\n",
              "      <td>197001000002</td>\n",
              "      <td>1970</td>\n",
              "      <td>1</td>\n",
              "      <td>0</td>\n",
              "      <td>NaN</td>\n",
              "      <td>0</td>\n",
              "      <td>NaN</td>\n",
              "      <td>78</td>\n",
              "      <td>Greece</td>\n",
              "      <td>8</td>\n",
              "      <td>...</td>\n",
              "      <td>NaN</td>\n",
              "      <td>NaN</td>\n",
              "      <td>NaN</td>\n",
              "      <td>NaN</td>\n",
              "      <td>PGIS</td>\n",
              "      <td>-9</td>\n",
              "      <td>-9</td>\n",
              "      <td>1</td>\n",
              "      <td>1</td>\n",
              "      <td>NaN</td>\n",
              "    </tr>\n",
              "    <tr>\n",
              "      <th>4</th>\n",
              "      <td>197001000003</td>\n",
              "      <td>1970</td>\n",
              "      <td>1</td>\n",
              "      <td>0</td>\n",
              "      <td>NaN</td>\n",
              "      <td>0</td>\n",
              "      <td>NaN</td>\n",
              "      <td>101</td>\n",
              "      <td>Japan</td>\n",
              "      <td>4</td>\n",
              "      <td>...</td>\n",
              "      <td>NaN</td>\n",
              "      <td>NaN</td>\n",
              "      <td>NaN</td>\n",
              "      <td>NaN</td>\n",
              "      <td>PGIS</td>\n",
              "      <td>-9</td>\n",
              "      <td>-9</td>\n",
              "      <td>1</td>\n",
              "      <td>1</td>\n",
              "      <td>NaN</td>\n",
              "    </tr>\n",
              "    <tr>\n",
              "      <th>5</th>\n",
              "      <td>197001010002</td>\n",
              "      <td>1970</td>\n",
              "      <td>1</td>\n",
              "      <td>1</td>\n",
              "      <td>NaN</td>\n",
              "      <td>0</td>\n",
              "      <td>NaN</td>\n",
              "      <td>217</td>\n",
              "      <td>United States</td>\n",
              "      <td>1</td>\n",
              "      <td>...</td>\n",
              "      <td>The Cairo Chief of Police, William Petersen, r...</td>\n",
              "      <td>\"Police Chief Quits,\" Washington Post, January...</td>\n",
              "      <td>\"Cairo Police Chief Quits; Decries Local 'Mili...</td>\n",
              "      <td>Christopher Hewitt, \"Political Violence and Te...</td>\n",
              "      <td>Hewitt Project</td>\n",
              "      <td>-9</td>\n",
              "      <td>-9</td>\n",
              "      <td>0</td>\n",
              "      <td>-9</td>\n",
              "      <td>NaN</td>\n",
              "    </tr>\n",
              "    <tr>\n",
              "      <th>6</th>\n",
              "      <td>197001020001</td>\n",
              "      <td>1970</td>\n",
              "      <td>1</td>\n",
              "      <td>2</td>\n",
              "      <td>NaN</td>\n",
              "      <td>0</td>\n",
              "      <td>NaN</td>\n",
              "      <td>218</td>\n",
              "      <td>Uruguay</td>\n",
              "      <td>3</td>\n",
              "      <td>...</td>\n",
              "      <td>NaN</td>\n",
              "      <td>NaN</td>\n",
              "      <td>NaN</td>\n",
              "      <td>NaN</td>\n",
              "      <td>PGIS</td>\n",
              "      <td>0</td>\n",
              "      <td>0</td>\n",
              "      <td>0</td>\n",
              "      <td>0</td>\n",
              "      <td>NaN</td>\n",
              "    </tr>\n",
              "    <tr>\n",
              "      <th>7</th>\n",
              "      <td>197001020002</td>\n",
              "      <td>1970</td>\n",
              "      <td>1</td>\n",
              "      <td>2</td>\n",
              "      <td>NaN</td>\n",
              "      <td>0</td>\n",
              "      <td>NaN</td>\n",
              "      <td>217</td>\n",
              "      <td>United States</td>\n",
              "      <td>1</td>\n",
              "      <td>...</td>\n",
              "      <td>Damages were estimated to be between $20,000-$...</td>\n",
              "      <td>Committee on Government Operations United Stat...</td>\n",
              "      <td>Christopher Hewitt, \"Political Violence and Te...</td>\n",
              "      <td>NaN</td>\n",
              "      <td>Hewitt Project</td>\n",
              "      <td>-9</td>\n",
              "      <td>-9</td>\n",
              "      <td>0</td>\n",
              "      <td>-9</td>\n",
              "      <td>NaN</td>\n",
              "    </tr>\n",
              "    <tr>\n",
              "      <th>8</th>\n",
              "      <td>197001020003</td>\n",
              "      <td>1970</td>\n",
              "      <td>1</td>\n",
              "      <td>2</td>\n",
              "      <td>NaN</td>\n",
              "      <td>0</td>\n",
              "      <td>NaN</td>\n",
              "      <td>217</td>\n",
              "      <td>United States</td>\n",
              "      <td>1</td>\n",
              "      <td>...</td>\n",
              "      <td>The New Years Gang issue a communiqué to a loc...</td>\n",
              "      <td>Tom Bates, \"Rads: The 1970 Bombing of the Army...</td>\n",
              "      <td>David Newman, Sandra Sutherland, and Jon Stewa...</td>\n",
              "      <td>The Wisconsin Cartographers' Guild, \"Wisconsin...</td>\n",
              "      <td>Hewitt Project</td>\n",
              "      <td>0</td>\n",
              "      <td>0</td>\n",
              "      <td>0</td>\n",
              "      <td>0</td>\n",
              "      <td>NaN</td>\n",
              "    </tr>\n",
              "    <tr>\n",
              "      <th>9</th>\n",
              "      <td>197001030001</td>\n",
              "      <td>1970</td>\n",
              "      <td>1</td>\n",
              "      <td>3</td>\n",
              "      <td>NaN</td>\n",
              "      <td>0</td>\n",
              "      <td>NaN</td>\n",
              "      <td>217</td>\n",
              "      <td>United States</td>\n",
              "      <td>1</td>\n",
              "      <td>...</td>\n",
              "      <td>Karl Armstrong's girlfriend, Lynn Schultz, dro...</td>\n",
              "      <td>Committee on Government Operations United Stat...</td>\n",
              "      <td>Tom Bates, \"Rads: The 1970 Bombing of the Army...</td>\n",
              "      <td>David Newman, Sandra Sutherland, and Jon Stewa...</td>\n",
              "      <td>Hewitt Project</td>\n",
              "      <td>0</td>\n",
              "      <td>0</td>\n",
              "      <td>0</td>\n",
              "      <td>0</td>\n",
              "      <td>NaN</td>\n",
              "    </tr>\n",
              "  </tbody>\n",
              "</table>\n",
              "<p>10 rows × 135 columns</p>\n",
              "</div>\n",
              "      <button class=\"colab-df-convert\" onclick=\"convertToInteractive('df-b36acc03-b6e2-4060-9c6f-8218b237ae8d')\"\n",
              "              title=\"Convert this dataframe to an interactive table.\"\n",
              "              style=\"display:none;\">\n",
              "        \n",
              "  <svg xmlns=\"http://www.w3.org/2000/svg\" height=\"24px\"viewBox=\"0 0 24 24\"\n",
              "       width=\"24px\">\n",
              "    <path d=\"M0 0h24v24H0V0z\" fill=\"none\"/>\n",
              "    <path d=\"M18.56 5.44l.94 2.06.94-2.06 2.06-.94-2.06-.94-.94-2.06-.94 2.06-2.06.94zm-11 1L8.5 8.5l.94-2.06 2.06-.94-2.06-.94L8.5 2.5l-.94 2.06-2.06.94zm10 10l.94 2.06.94-2.06 2.06-.94-2.06-.94-.94-2.06-.94 2.06-2.06.94z\"/><path d=\"M17.41 7.96l-1.37-1.37c-.4-.4-.92-.59-1.43-.59-.52 0-1.04.2-1.43.59L10.3 9.45l-7.72 7.72c-.78.78-.78 2.05 0 2.83L4 21.41c.39.39.9.59 1.41.59.51 0 1.02-.2 1.41-.59l7.78-7.78 2.81-2.81c.8-.78.8-2.07 0-2.86zM5.41 20L4 18.59l7.72-7.72 1.47 1.35L5.41 20z\"/>\n",
              "  </svg>\n",
              "      </button>\n",
              "      \n",
              "  <style>\n",
              "    .colab-df-container {\n",
              "      display:flex;\n",
              "      flex-wrap:wrap;\n",
              "      gap: 12px;\n",
              "    }\n",
              "\n",
              "    .colab-df-convert {\n",
              "      background-color: #E8F0FE;\n",
              "      border: none;\n",
              "      border-radius: 50%;\n",
              "      cursor: pointer;\n",
              "      display: none;\n",
              "      fill: #1967D2;\n",
              "      height: 32px;\n",
              "      padding: 0 0 0 0;\n",
              "      width: 32px;\n",
              "    }\n",
              "\n",
              "    .colab-df-convert:hover {\n",
              "      background-color: #E2EBFA;\n",
              "      box-shadow: 0px 1px 2px rgba(60, 64, 67, 0.3), 0px 1px 3px 1px rgba(60, 64, 67, 0.15);\n",
              "      fill: #174EA6;\n",
              "    }\n",
              "\n",
              "    [theme=dark] .colab-df-convert {\n",
              "      background-color: #3B4455;\n",
              "      fill: #D2E3FC;\n",
              "    }\n",
              "\n",
              "    [theme=dark] .colab-df-convert:hover {\n",
              "      background-color: #434B5C;\n",
              "      box-shadow: 0px 1px 3px 1px rgba(0, 0, 0, 0.15);\n",
              "      filter: drop-shadow(0px 1px 2px rgba(0, 0, 0, 0.3));\n",
              "      fill: #FFFFFF;\n",
              "    }\n",
              "  </style>\n",
              "\n",
              "      <script>\n",
              "        const buttonEl =\n",
              "          document.querySelector('#df-b36acc03-b6e2-4060-9c6f-8218b237ae8d button.colab-df-convert');\n",
              "        buttonEl.style.display =\n",
              "          google.colab.kernel.accessAllowed ? 'block' : 'none';\n",
              "\n",
              "        async function convertToInteractive(key) {\n",
              "          const element = document.querySelector('#df-b36acc03-b6e2-4060-9c6f-8218b237ae8d');\n",
              "          const dataTable =\n",
              "            await google.colab.kernel.invokeFunction('convertToInteractive',\n",
              "                                                     [key], {});\n",
              "          if (!dataTable) return;\n",
              "\n",
              "          const docLinkHtml = 'Like what you see? Visit the ' +\n",
              "            '<a target=\"_blank\" href=https://colab.research.google.com/notebooks/data_table.ipynb>data table notebook</a>'\n",
              "            + ' to learn more about interactive tables.';\n",
              "          element.innerHTML = '';\n",
              "          dataTable['output_type'] = 'display_data';\n",
              "          await google.colab.output.renderOutput(dataTable, element);\n",
              "          const docLink = document.createElement('div');\n",
              "          docLink.innerHTML = docLinkHtml;\n",
              "          element.appendChild(docLink);\n",
              "        }\n",
              "      </script>\n",
              "    </div>\n",
              "  </div>\n",
              "  "
            ]
          },
          "metadata": {},
          "execution_count": 239
        }
      ],
      "source": [
        "data_td=pd.read_csv(\"globalterrorismdb_0718dist.csv\",encoding='latin1')\n",
        "data_td.head(10)"
      ]
    },
    {
      "cell_type": "markdown",
      "source": [
        "In the above, these are the dataset enter and showing upto 10 rows."
      ],
      "metadata": {
        "id": "FRSMS_vAZLkm"
      }
    },
    {
      "cell_type": "markdown",
      "source": [
        "# **Data Cleaning**"
      ],
      "metadata": {
        "id": "XgVizcZg0A4d"
      }
    },
    {
      "cell_type": "markdown",
      "source": [
        "**In the below code gives all information about dataset...**"
      ],
      "metadata": {
        "id": "gVrLMDMlZhsm"
      }
    },
    {
      "cell_type": "code",
      "execution_count": null,
      "metadata": {
        "colab": {
          "base_uri": "https://localhost:8080/"
        },
        "id": "mrbwx7u0jIce",
        "outputId": "d9983162-39ab-4024-d79a-5a7677b1d1ff"
      },
      "outputs": [
        {
          "output_type": "stream",
          "name": "stdout",
          "text": [
            "<class 'pandas.core.frame.DataFrame'>\n",
            "RangeIndex: 181691 entries, 0 to 181690\n",
            "Columns: 135 entries, eventid to related\n",
            "dtypes: float64(55), int64(22), object(58)\n",
            "memory usage: 187.1+ MB\n"
          ]
        }
      ],
      "source": [
        "data_td.info()"
      ]
    },
    {
      "cell_type": "markdown",
      "source": [
        "It shows that, there are 181691 rows and 135 columns in the dataset."
      ],
      "metadata": {
        "id": "VJ8mxq7-aY7b"
      }
    },
    {
      "cell_type": "markdown",
      "source": [
        "**Description of the dataset.**"
      ],
      "metadata": {
        "id": "F-1xEW3BaqEI"
      }
    },
    {
      "cell_type": "markdown",
      "source": [
        "Here shows mean,standard deviation, minimum value, maximum value, 1st quartile, 2nd and 3rd quartile..."
      ],
      "metadata": {
        "id": "VY2ow29SbC6p"
      }
    },
    {
      "cell_type": "code",
      "execution_count": null,
      "metadata": {
        "colab": {
          "base_uri": "https://localhost:8080/",
          "height": 394
        },
        "id": "UdzRSgrLjNlv",
        "outputId": "ec6268b4-09ed-4dcf-8495-fb6b8a3b3a84"
      },
      "outputs": [
        {
          "output_type": "execute_result",
          "data": {
            "text/plain": [
              "            eventid          iyear         imonth           iday  \\\n",
              "count  1.816910e+05  181691.000000  181691.000000  181691.000000   \n",
              "mean   2.002705e+11    2002.638997       6.467277      15.505644   \n",
              "std    1.325957e+09      13.259430       3.388303       8.814045   \n",
              "min    1.970000e+11    1970.000000       0.000000       0.000000   \n",
              "25%    1.991021e+11    1991.000000       4.000000       8.000000   \n",
              "50%    2.009022e+11    2009.000000       6.000000      15.000000   \n",
              "75%    2.014081e+11    2014.000000       9.000000      23.000000   \n",
              "max    2.017123e+11    2017.000000      12.000000      31.000000   \n",
              "\n",
              "            extended        country         region       latitude  \\\n",
              "count  181691.000000  181691.000000  181691.000000  177135.000000   \n",
              "mean        0.045346     131.968501       7.160938      23.498343   \n",
              "std         0.208063     112.414535       2.933408      18.569242   \n",
              "min         0.000000       4.000000       1.000000     -53.154613   \n",
              "25%         0.000000      78.000000       5.000000      11.510046   \n",
              "50%         0.000000      98.000000       6.000000      31.467463   \n",
              "75%         0.000000     160.000000      10.000000      34.685087   \n",
              "max         1.000000    1004.000000      12.000000      74.633553   \n",
              "\n",
              "          longitude    specificity  ...     ransomamt   ransomamtus  \\\n",
              "count  1.771340e+05  181685.000000  ...  1.350000e+03  5.630000e+02   \n",
              "mean  -4.586957e+02       1.451452  ...  3.172530e+06  5.784865e+05   \n",
              "std    2.047790e+05       0.995430  ...  3.021157e+07  7.077924e+06   \n",
              "min   -8.618590e+07       1.000000  ... -9.900000e+01 -9.900000e+01   \n",
              "25%    4.545640e+00       1.000000  ...  0.000000e+00  0.000000e+00   \n",
              "50%    4.324651e+01       1.000000  ...  1.500000e+04  0.000000e+00   \n",
              "75%    6.871033e+01       1.000000  ...  4.000000e+05  0.000000e+00   \n",
              "max    1.793667e+02       5.000000  ...  1.000000e+09  1.320000e+08   \n",
              "\n",
              "         ransompaid  ransompaidus  hostkidoutcome     nreleased  \\\n",
              "count  7.740000e+02    552.000000    10991.000000  10400.000000   \n",
              "mean   7.179437e+05    240.378623        4.629242    -29.018269   \n",
              "std    1.014392e+07   2940.967293        2.035360     65.720119   \n",
              "min   -9.900000e+01    -99.000000        1.000000    -99.000000   \n",
              "25%   -9.900000e+01      0.000000        2.000000    -99.000000   \n",
              "50%    0.000000e+00      0.000000        4.000000      0.000000   \n",
              "75%    1.273412e+03      0.000000        7.000000      1.000000   \n",
              "max    2.750000e+08  48000.000000        7.000000   2769.000000   \n",
              "\n",
              "             INT_LOG       INT_IDEO       INT_MISC        INT_ANY  \n",
              "count  181691.000000  181691.000000  181691.000000  181691.000000  \n",
              "mean       -4.543731      -4.464398       0.090010      -3.945952  \n",
              "std         4.543547       4.637152       0.568457       4.691325  \n",
              "min        -9.000000      -9.000000      -9.000000      -9.000000  \n",
              "25%        -9.000000      -9.000000       0.000000      -9.000000  \n",
              "50%        -9.000000      -9.000000       0.000000       0.000000  \n",
              "75%         0.000000       0.000000       0.000000       0.000000  \n",
              "max         1.000000       1.000000       1.000000       1.000000  \n",
              "\n",
              "[8 rows x 77 columns]"
            ],
            "text/html": [
              "\n",
              "  <div id=\"df-f0c90a61-acff-438f-bd68-be89f81fda79\">\n",
              "    <div class=\"colab-df-container\">\n",
              "      <div>\n",
              "<style scoped>\n",
              "    .dataframe tbody tr th:only-of-type {\n",
              "        vertical-align: middle;\n",
              "    }\n",
              "\n",
              "    .dataframe tbody tr th {\n",
              "        vertical-align: top;\n",
              "    }\n",
              "\n",
              "    .dataframe thead th {\n",
              "        text-align: right;\n",
              "    }\n",
              "</style>\n",
              "<table border=\"1\" class=\"dataframe\">\n",
              "  <thead>\n",
              "    <tr style=\"text-align: right;\">\n",
              "      <th></th>\n",
              "      <th>eventid</th>\n",
              "      <th>iyear</th>\n",
              "      <th>imonth</th>\n",
              "      <th>iday</th>\n",
              "      <th>extended</th>\n",
              "      <th>country</th>\n",
              "      <th>region</th>\n",
              "      <th>latitude</th>\n",
              "      <th>longitude</th>\n",
              "      <th>specificity</th>\n",
              "      <th>...</th>\n",
              "      <th>ransomamt</th>\n",
              "      <th>ransomamtus</th>\n",
              "      <th>ransompaid</th>\n",
              "      <th>ransompaidus</th>\n",
              "      <th>hostkidoutcome</th>\n",
              "      <th>nreleased</th>\n",
              "      <th>INT_LOG</th>\n",
              "      <th>INT_IDEO</th>\n",
              "      <th>INT_MISC</th>\n",
              "      <th>INT_ANY</th>\n",
              "    </tr>\n",
              "  </thead>\n",
              "  <tbody>\n",
              "    <tr>\n",
              "      <th>count</th>\n",
              "      <td>1.816910e+05</td>\n",
              "      <td>181691.000000</td>\n",
              "      <td>181691.000000</td>\n",
              "      <td>181691.000000</td>\n",
              "      <td>181691.000000</td>\n",
              "      <td>181691.000000</td>\n",
              "      <td>181691.000000</td>\n",
              "      <td>177135.000000</td>\n",
              "      <td>1.771340e+05</td>\n",
              "      <td>181685.000000</td>\n",
              "      <td>...</td>\n",
              "      <td>1.350000e+03</td>\n",
              "      <td>5.630000e+02</td>\n",
              "      <td>7.740000e+02</td>\n",
              "      <td>552.000000</td>\n",
              "      <td>10991.000000</td>\n",
              "      <td>10400.000000</td>\n",
              "      <td>181691.000000</td>\n",
              "      <td>181691.000000</td>\n",
              "      <td>181691.000000</td>\n",
              "      <td>181691.000000</td>\n",
              "    </tr>\n",
              "    <tr>\n",
              "      <th>mean</th>\n",
              "      <td>2.002705e+11</td>\n",
              "      <td>2002.638997</td>\n",
              "      <td>6.467277</td>\n",
              "      <td>15.505644</td>\n",
              "      <td>0.045346</td>\n",
              "      <td>131.968501</td>\n",
              "      <td>7.160938</td>\n",
              "      <td>23.498343</td>\n",
              "      <td>-4.586957e+02</td>\n",
              "      <td>1.451452</td>\n",
              "      <td>...</td>\n",
              "      <td>3.172530e+06</td>\n",
              "      <td>5.784865e+05</td>\n",
              "      <td>7.179437e+05</td>\n",
              "      <td>240.378623</td>\n",
              "      <td>4.629242</td>\n",
              "      <td>-29.018269</td>\n",
              "      <td>-4.543731</td>\n",
              "      <td>-4.464398</td>\n",
              "      <td>0.090010</td>\n",
              "      <td>-3.945952</td>\n",
              "    </tr>\n",
              "    <tr>\n",
              "      <th>std</th>\n",
              "      <td>1.325957e+09</td>\n",
              "      <td>13.259430</td>\n",
              "      <td>3.388303</td>\n",
              "      <td>8.814045</td>\n",
              "      <td>0.208063</td>\n",
              "      <td>112.414535</td>\n",
              "      <td>2.933408</td>\n",
              "      <td>18.569242</td>\n",
              "      <td>2.047790e+05</td>\n",
              "      <td>0.995430</td>\n",
              "      <td>...</td>\n",
              "      <td>3.021157e+07</td>\n",
              "      <td>7.077924e+06</td>\n",
              "      <td>1.014392e+07</td>\n",
              "      <td>2940.967293</td>\n",
              "      <td>2.035360</td>\n",
              "      <td>65.720119</td>\n",
              "      <td>4.543547</td>\n",
              "      <td>4.637152</td>\n",
              "      <td>0.568457</td>\n",
              "      <td>4.691325</td>\n",
              "    </tr>\n",
              "    <tr>\n",
              "      <th>min</th>\n",
              "      <td>1.970000e+11</td>\n",
              "      <td>1970.000000</td>\n",
              "      <td>0.000000</td>\n",
              "      <td>0.000000</td>\n",
              "      <td>0.000000</td>\n",
              "      <td>4.000000</td>\n",
              "      <td>1.000000</td>\n",
              "      <td>-53.154613</td>\n",
              "      <td>-8.618590e+07</td>\n",
              "      <td>1.000000</td>\n",
              "      <td>...</td>\n",
              "      <td>-9.900000e+01</td>\n",
              "      <td>-9.900000e+01</td>\n",
              "      <td>-9.900000e+01</td>\n",
              "      <td>-99.000000</td>\n",
              "      <td>1.000000</td>\n",
              "      <td>-99.000000</td>\n",
              "      <td>-9.000000</td>\n",
              "      <td>-9.000000</td>\n",
              "      <td>-9.000000</td>\n",
              "      <td>-9.000000</td>\n",
              "    </tr>\n",
              "    <tr>\n",
              "      <th>25%</th>\n",
              "      <td>1.991021e+11</td>\n",
              "      <td>1991.000000</td>\n",
              "      <td>4.000000</td>\n",
              "      <td>8.000000</td>\n",
              "      <td>0.000000</td>\n",
              "      <td>78.000000</td>\n",
              "      <td>5.000000</td>\n",
              "      <td>11.510046</td>\n",
              "      <td>4.545640e+00</td>\n",
              "      <td>1.000000</td>\n",
              "      <td>...</td>\n",
              "      <td>0.000000e+00</td>\n",
              "      <td>0.000000e+00</td>\n",
              "      <td>-9.900000e+01</td>\n",
              "      <td>0.000000</td>\n",
              "      <td>2.000000</td>\n",
              "      <td>-99.000000</td>\n",
              "      <td>-9.000000</td>\n",
              "      <td>-9.000000</td>\n",
              "      <td>0.000000</td>\n",
              "      <td>-9.000000</td>\n",
              "    </tr>\n",
              "    <tr>\n",
              "      <th>50%</th>\n",
              "      <td>2.009022e+11</td>\n",
              "      <td>2009.000000</td>\n",
              "      <td>6.000000</td>\n",
              "      <td>15.000000</td>\n",
              "      <td>0.000000</td>\n",
              "      <td>98.000000</td>\n",
              "      <td>6.000000</td>\n",
              "      <td>31.467463</td>\n",
              "      <td>4.324651e+01</td>\n",
              "      <td>1.000000</td>\n",
              "      <td>...</td>\n",
              "      <td>1.500000e+04</td>\n",
              "      <td>0.000000e+00</td>\n",
              "      <td>0.000000e+00</td>\n",
              "      <td>0.000000</td>\n",
              "      <td>4.000000</td>\n",
              "      <td>0.000000</td>\n",
              "      <td>-9.000000</td>\n",
              "      <td>-9.000000</td>\n",
              "      <td>0.000000</td>\n",
              "      <td>0.000000</td>\n",
              "    </tr>\n",
              "    <tr>\n",
              "      <th>75%</th>\n",
              "      <td>2.014081e+11</td>\n",
              "      <td>2014.000000</td>\n",
              "      <td>9.000000</td>\n",
              "      <td>23.000000</td>\n",
              "      <td>0.000000</td>\n",
              "      <td>160.000000</td>\n",
              "      <td>10.000000</td>\n",
              "      <td>34.685087</td>\n",
              "      <td>6.871033e+01</td>\n",
              "      <td>1.000000</td>\n",
              "      <td>...</td>\n",
              "      <td>4.000000e+05</td>\n",
              "      <td>0.000000e+00</td>\n",
              "      <td>1.273412e+03</td>\n",
              "      <td>0.000000</td>\n",
              "      <td>7.000000</td>\n",
              "      <td>1.000000</td>\n",
              "      <td>0.000000</td>\n",
              "      <td>0.000000</td>\n",
              "      <td>0.000000</td>\n",
              "      <td>0.000000</td>\n",
              "    </tr>\n",
              "    <tr>\n",
              "      <th>max</th>\n",
              "      <td>2.017123e+11</td>\n",
              "      <td>2017.000000</td>\n",
              "      <td>12.000000</td>\n",
              "      <td>31.000000</td>\n",
              "      <td>1.000000</td>\n",
              "      <td>1004.000000</td>\n",
              "      <td>12.000000</td>\n",
              "      <td>74.633553</td>\n",
              "      <td>1.793667e+02</td>\n",
              "      <td>5.000000</td>\n",
              "      <td>...</td>\n",
              "      <td>1.000000e+09</td>\n",
              "      <td>1.320000e+08</td>\n",
              "      <td>2.750000e+08</td>\n",
              "      <td>48000.000000</td>\n",
              "      <td>7.000000</td>\n",
              "      <td>2769.000000</td>\n",
              "      <td>1.000000</td>\n",
              "      <td>1.000000</td>\n",
              "      <td>1.000000</td>\n",
              "      <td>1.000000</td>\n",
              "    </tr>\n",
              "  </tbody>\n",
              "</table>\n",
              "<p>8 rows × 77 columns</p>\n",
              "</div>\n",
              "      <button class=\"colab-df-convert\" onclick=\"convertToInteractive('df-f0c90a61-acff-438f-bd68-be89f81fda79')\"\n",
              "              title=\"Convert this dataframe to an interactive table.\"\n",
              "              style=\"display:none;\">\n",
              "        \n",
              "  <svg xmlns=\"http://www.w3.org/2000/svg\" height=\"24px\"viewBox=\"0 0 24 24\"\n",
              "       width=\"24px\">\n",
              "    <path d=\"M0 0h24v24H0V0z\" fill=\"none\"/>\n",
              "    <path d=\"M18.56 5.44l.94 2.06.94-2.06 2.06-.94-2.06-.94-.94-2.06-.94 2.06-2.06.94zm-11 1L8.5 8.5l.94-2.06 2.06-.94-2.06-.94L8.5 2.5l-.94 2.06-2.06.94zm10 10l.94 2.06.94-2.06 2.06-.94-2.06-.94-.94-2.06-.94 2.06-2.06.94z\"/><path d=\"M17.41 7.96l-1.37-1.37c-.4-.4-.92-.59-1.43-.59-.52 0-1.04.2-1.43.59L10.3 9.45l-7.72 7.72c-.78.78-.78 2.05 0 2.83L4 21.41c.39.39.9.59 1.41.59.51 0 1.02-.2 1.41-.59l7.78-7.78 2.81-2.81c.8-.78.8-2.07 0-2.86zM5.41 20L4 18.59l7.72-7.72 1.47 1.35L5.41 20z\"/>\n",
              "  </svg>\n",
              "      </button>\n",
              "      \n",
              "  <style>\n",
              "    .colab-df-container {\n",
              "      display:flex;\n",
              "      flex-wrap:wrap;\n",
              "      gap: 12px;\n",
              "    }\n",
              "\n",
              "    .colab-df-convert {\n",
              "      background-color: #E8F0FE;\n",
              "      border: none;\n",
              "      border-radius: 50%;\n",
              "      cursor: pointer;\n",
              "      display: none;\n",
              "      fill: #1967D2;\n",
              "      height: 32px;\n",
              "      padding: 0 0 0 0;\n",
              "      width: 32px;\n",
              "    }\n",
              "\n",
              "    .colab-df-convert:hover {\n",
              "      background-color: #E2EBFA;\n",
              "      box-shadow: 0px 1px 2px rgba(60, 64, 67, 0.3), 0px 1px 3px 1px rgba(60, 64, 67, 0.15);\n",
              "      fill: #174EA6;\n",
              "    }\n",
              "\n",
              "    [theme=dark] .colab-df-convert {\n",
              "      background-color: #3B4455;\n",
              "      fill: #D2E3FC;\n",
              "    }\n",
              "\n",
              "    [theme=dark] .colab-df-convert:hover {\n",
              "      background-color: #434B5C;\n",
              "      box-shadow: 0px 1px 3px 1px rgba(0, 0, 0, 0.15);\n",
              "      filter: drop-shadow(0px 1px 2px rgba(0, 0, 0, 0.3));\n",
              "      fill: #FFFFFF;\n",
              "    }\n",
              "  </style>\n",
              "\n",
              "      <script>\n",
              "        const buttonEl =\n",
              "          document.querySelector('#df-f0c90a61-acff-438f-bd68-be89f81fda79 button.colab-df-convert');\n",
              "        buttonEl.style.display =\n",
              "          google.colab.kernel.accessAllowed ? 'block' : 'none';\n",
              "\n",
              "        async function convertToInteractive(key) {\n",
              "          const element = document.querySelector('#df-f0c90a61-acff-438f-bd68-be89f81fda79');\n",
              "          const dataTable =\n",
              "            await google.colab.kernel.invokeFunction('convertToInteractive',\n",
              "                                                     [key], {});\n",
              "          if (!dataTable) return;\n",
              "\n",
              "          const docLinkHtml = 'Like what you see? Visit the ' +\n",
              "            '<a target=\"_blank\" href=https://colab.research.google.com/notebooks/data_table.ipynb>data table notebook</a>'\n",
              "            + ' to learn more about interactive tables.';\n",
              "          element.innerHTML = '';\n",
              "          dataTable['output_type'] = 'display_data';\n",
              "          await google.colab.output.renderOutput(dataTable, element);\n",
              "          const docLink = document.createElement('div');\n",
              "          docLink.innerHTML = docLinkHtml;\n",
              "          element.appendChild(docLink);\n",
              "        }\n",
              "      </script>\n",
              "    </div>\n",
              "  </div>\n",
              "  "
            ]
          },
          "metadata": {},
          "execution_count": 241
        }
      ],
      "source": [
        "data_td.describe()"
      ]
    },
    {
      "cell_type": "markdown",
      "source": [
        "**Calculate Correlation...**"
      ],
      "metadata": {
        "id": "X_M-Xx71bhEA"
      }
    },
    {
      "cell_type": "code",
      "execution_count": null,
      "metadata": {
        "colab": {
          "base_uri": "https://localhost:8080/",
          "height": 488
        },
        "id": "2LWOTYf3jWcZ",
        "outputId": "61819372-cc50-4338-b86d-165ed3ff81af"
      },
      "outputs": [
        {
          "output_type": "execute_result",
          "data": {
            "text/plain": [
              "            eventid     iyear    imonth      iday  extended   country  \\\n",
              "eventid    1.000000  0.999996  0.002706  0.018336  0.091761 -0.135039   \n",
              "iyear      0.999996  1.000000  0.000139  0.018254  0.091754 -0.135023   \n",
              "imonth     0.002706  0.000139  1.000000  0.005497 -0.000468 -0.006305   \n",
              "iday       0.018336  0.018254  0.005497  1.000000 -0.004700  0.003468   \n",
              "extended   0.091761  0.091754 -0.000468 -0.004700  1.000000 -0.020466   \n",
              "...             ...       ...       ...       ...       ...       ...   \n",
              "nreleased -0.181612 -0.181556 -0.011535  0.001765 -0.192155 -0.044331   \n",
              "INT_LOG   -0.143600 -0.143601 -0.002302 -0.001540  0.071768  0.069904   \n",
              "INT_IDEO  -0.133252 -0.133253 -0.002034 -0.001621  0.075147  0.067564   \n",
              "INT_MISC  -0.077852 -0.077847 -0.002554 -0.002027  0.027335  0.207281   \n",
              "INT_ANY   -0.175605 -0.175596 -0.006336 -0.001199  0.080767  0.153118   \n",
              "\n",
              "             region  latitude  longitude  specificity  ...  ransomamt  \\\n",
              "eventid    0.401371  0.166886   0.003907     0.030641  ...  -0.009990   \n",
              "iyear      0.401384  0.166933   0.003917     0.030626  ...  -0.009984   \n",
              "imonth    -0.002999 -0.015978  -0.003880     0.003621  ...  -0.000710   \n",
              "iday       0.009710  0.003423  -0.002285    -0.006991  ...   0.012755   \n",
              "extended   0.038389 -0.024749   0.000523     0.057897  ...  -0.008114   \n",
              "...             ...       ...        ...          ...  ...        ...   \n",
              "nreleased -0.149511  0.002790  -0.017745    -0.030631  ...   0.054571   \n",
              "INT_LOG   -0.082584 -0.099827   0.002272     0.073022  ...   0.035821   \n",
              "INT_IDEO  -0.071917 -0.094470   0.002268     0.071333  ...   0.039053   \n",
              "INT_MISC   0.043139  0.097652   0.000371    -0.019197  ...   0.023815   \n",
              "INT_ANY   -0.047900 -0.041530   0.002497     0.061389  ...   0.028054   \n",
              "\n",
              "           ransomamtus  ransompaid  ransompaidus  hostkidoutcome  nreleased  \\\n",
              "eventid      -0.018001   -0.014094     -0.165422        0.256113  -0.181612   \n",
              "iyear        -0.018216   -0.014238     -0.165375        0.256092  -0.181556   \n",
              "imonth        0.046989    0.058878     -0.016597        0.011295  -0.011535   \n",
              "iday         -0.010502    0.003148     -0.006581       -0.006706   0.001765   \n",
              "extended      0.028177    0.001966      0.009367        0.233293  -0.192155   \n",
              "...                ...         ...           ...             ...        ...   \n",
              "nreleased     0.034843    0.049322      0.016832       -0.555478   1.000000   \n",
              "INT_LOG       0.031079    0.007029     -0.045504       -0.015442   0.039388   \n",
              "INT_IDEO      0.041983    0.013162     -0.039844       -0.016234   0.040947   \n",
              "INT_MISC      0.125162    0.037227      0.129274       -0.119776   0.085055   \n",
              "INT_ANY       0.053484    0.007275      0.056438       -0.061946   0.064759   \n",
              "\n",
              "            INT_LOG  INT_IDEO  INT_MISC   INT_ANY  \n",
              "eventid   -0.143600 -0.133252 -0.077852 -0.175605  \n",
              "iyear     -0.143601 -0.133253 -0.077847 -0.175596  \n",
              "imonth    -0.002302 -0.002034 -0.002554 -0.006336  \n",
              "iday      -0.001540 -0.001621 -0.002027 -0.001199  \n",
              "extended   0.071768  0.075147  0.027335  0.080767  \n",
              "...             ...       ...       ...       ...  \n",
              "nreleased  0.039388  0.040947  0.085055  0.064759  \n",
              "INT_LOG    1.000000  0.996211  0.052537  0.891051  \n",
              "INT_IDEO   0.996211  1.000000  0.082014  0.893811  \n",
              "INT_MISC   0.052537  0.082014  1.000000  0.252193  \n",
              "INT_ANY    0.891051  0.893811  0.252193  1.000000  \n",
              "\n",
              "[77 rows x 77 columns]"
            ],
            "text/html": [
              "\n",
              "  <div id=\"df-6647cd77-88c6-4069-8b69-e31870645ca0\">\n",
              "    <div class=\"colab-df-container\">\n",
              "      <div>\n",
              "<style scoped>\n",
              "    .dataframe tbody tr th:only-of-type {\n",
              "        vertical-align: middle;\n",
              "    }\n",
              "\n",
              "    .dataframe tbody tr th {\n",
              "        vertical-align: top;\n",
              "    }\n",
              "\n",
              "    .dataframe thead th {\n",
              "        text-align: right;\n",
              "    }\n",
              "</style>\n",
              "<table border=\"1\" class=\"dataframe\">\n",
              "  <thead>\n",
              "    <tr style=\"text-align: right;\">\n",
              "      <th></th>\n",
              "      <th>eventid</th>\n",
              "      <th>iyear</th>\n",
              "      <th>imonth</th>\n",
              "      <th>iday</th>\n",
              "      <th>extended</th>\n",
              "      <th>country</th>\n",
              "      <th>region</th>\n",
              "      <th>latitude</th>\n",
              "      <th>longitude</th>\n",
              "      <th>specificity</th>\n",
              "      <th>...</th>\n",
              "      <th>ransomamt</th>\n",
              "      <th>ransomamtus</th>\n",
              "      <th>ransompaid</th>\n",
              "      <th>ransompaidus</th>\n",
              "      <th>hostkidoutcome</th>\n",
              "      <th>nreleased</th>\n",
              "      <th>INT_LOG</th>\n",
              "      <th>INT_IDEO</th>\n",
              "      <th>INT_MISC</th>\n",
              "      <th>INT_ANY</th>\n",
              "    </tr>\n",
              "  </thead>\n",
              "  <tbody>\n",
              "    <tr>\n",
              "      <th>eventid</th>\n",
              "      <td>1.000000</td>\n",
              "      <td>0.999996</td>\n",
              "      <td>0.002706</td>\n",
              "      <td>0.018336</td>\n",
              "      <td>0.091761</td>\n",
              "      <td>-0.135039</td>\n",
              "      <td>0.401371</td>\n",
              "      <td>0.166886</td>\n",
              "      <td>0.003907</td>\n",
              "      <td>0.030641</td>\n",
              "      <td>...</td>\n",
              "      <td>-0.009990</td>\n",
              "      <td>-0.018001</td>\n",
              "      <td>-0.014094</td>\n",
              "      <td>-0.165422</td>\n",
              "      <td>0.256113</td>\n",
              "      <td>-0.181612</td>\n",
              "      <td>-0.143600</td>\n",
              "      <td>-0.133252</td>\n",
              "      <td>-0.077852</td>\n",
              "      <td>-0.175605</td>\n",
              "    </tr>\n",
              "    <tr>\n",
              "      <th>iyear</th>\n",
              "      <td>0.999996</td>\n",
              "      <td>1.000000</td>\n",
              "      <td>0.000139</td>\n",
              "      <td>0.018254</td>\n",
              "      <td>0.091754</td>\n",
              "      <td>-0.135023</td>\n",
              "      <td>0.401384</td>\n",
              "      <td>0.166933</td>\n",
              "      <td>0.003917</td>\n",
              "      <td>0.030626</td>\n",
              "      <td>...</td>\n",
              "      <td>-0.009984</td>\n",
              "      <td>-0.018216</td>\n",
              "      <td>-0.014238</td>\n",
              "      <td>-0.165375</td>\n",
              "      <td>0.256092</td>\n",
              "      <td>-0.181556</td>\n",
              "      <td>-0.143601</td>\n",
              "      <td>-0.133253</td>\n",
              "      <td>-0.077847</td>\n",
              "      <td>-0.175596</td>\n",
              "    </tr>\n",
              "    <tr>\n",
              "      <th>imonth</th>\n",
              "      <td>0.002706</td>\n",
              "      <td>0.000139</td>\n",
              "      <td>1.000000</td>\n",
              "      <td>0.005497</td>\n",
              "      <td>-0.000468</td>\n",
              "      <td>-0.006305</td>\n",
              "      <td>-0.002999</td>\n",
              "      <td>-0.015978</td>\n",
              "      <td>-0.003880</td>\n",
              "      <td>0.003621</td>\n",
              "      <td>...</td>\n",
              "      <td>-0.000710</td>\n",
              "      <td>0.046989</td>\n",
              "      <td>0.058878</td>\n",
              "      <td>-0.016597</td>\n",
              "      <td>0.011295</td>\n",
              "      <td>-0.011535</td>\n",
              "      <td>-0.002302</td>\n",
              "      <td>-0.002034</td>\n",
              "      <td>-0.002554</td>\n",
              "      <td>-0.006336</td>\n",
              "    </tr>\n",
              "    <tr>\n",
              "      <th>iday</th>\n",
              "      <td>0.018336</td>\n",
              "      <td>0.018254</td>\n",
              "      <td>0.005497</td>\n",
              "      <td>1.000000</td>\n",
              "      <td>-0.004700</td>\n",
              "      <td>0.003468</td>\n",
              "      <td>0.009710</td>\n",
              "      <td>0.003423</td>\n",
              "      <td>-0.002285</td>\n",
              "      <td>-0.006991</td>\n",
              "      <td>...</td>\n",
              "      <td>0.012755</td>\n",
              "      <td>-0.010502</td>\n",
              "      <td>0.003148</td>\n",
              "      <td>-0.006581</td>\n",
              "      <td>-0.006706</td>\n",
              "      <td>0.001765</td>\n",
              "      <td>-0.001540</td>\n",
              "      <td>-0.001621</td>\n",
              "      <td>-0.002027</td>\n",
              "      <td>-0.001199</td>\n",
              "    </tr>\n",
              "    <tr>\n",
              "      <th>extended</th>\n",
              "      <td>0.091761</td>\n",
              "      <td>0.091754</td>\n",
              "      <td>-0.000468</td>\n",
              "      <td>-0.004700</td>\n",
              "      <td>1.000000</td>\n",
              "      <td>-0.020466</td>\n",
              "      <td>0.038389</td>\n",
              "      <td>-0.024749</td>\n",
              "      <td>0.000523</td>\n",
              "      <td>0.057897</td>\n",
              "      <td>...</td>\n",
              "      <td>-0.008114</td>\n",
              "      <td>0.028177</td>\n",
              "      <td>0.001966</td>\n",
              "      <td>0.009367</td>\n",
              "      <td>0.233293</td>\n",
              "      <td>-0.192155</td>\n",
              "      <td>0.071768</td>\n",
              "      <td>0.075147</td>\n",
              "      <td>0.027335</td>\n",
              "      <td>0.080767</td>\n",
              "    </tr>\n",
              "    <tr>\n",
              "      <th>...</th>\n",
              "      <td>...</td>\n",
              "      <td>...</td>\n",
              "      <td>...</td>\n",
              "      <td>...</td>\n",
              "      <td>...</td>\n",
              "      <td>...</td>\n",
              "      <td>...</td>\n",
              "      <td>...</td>\n",
              "      <td>...</td>\n",
              "      <td>...</td>\n",
              "      <td>...</td>\n",
              "      <td>...</td>\n",
              "      <td>...</td>\n",
              "      <td>...</td>\n",
              "      <td>...</td>\n",
              "      <td>...</td>\n",
              "      <td>...</td>\n",
              "      <td>...</td>\n",
              "      <td>...</td>\n",
              "      <td>...</td>\n",
              "      <td>...</td>\n",
              "    </tr>\n",
              "    <tr>\n",
              "      <th>nreleased</th>\n",
              "      <td>-0.181612</td>\n",
              "      <td>-0.181556</td>\n",
              "      <td>-0.011535</td>\n",
              "      <td>0.001765</td>\n",
              "      <td>-0.192155</td>\n",
              "      <td>-0.044331</td>\n",
              "      <td>-0.149511</td>\n",
              "      <td>0.002790</td>\n",
              "      <td>-0.017745</td>\n",
              "      <td>-0.030631</td>\n",
              "      <td>...</td>\n",
              "      <td>0.054571</td>\n",
              "      <td>0.034843</td>\n",
              "      <td>0.049322</td>\n",
              "      <td>0.016832</td>\n",
              "      <td>-0.555478</td>\n",
              "      <td>1.000000</td>\n",
              "      <td>0.039388</td>\n",
              "      <td>0.040947</td>\n",
              "      <td>0.085055</td>\n",
              "      <td>0.064759</td>\n",
              "    </tr>\n",
              "    <tr>\n",
              "      <th>INT_LOG</th>\n",
              "      <td>-0.143600</td>\n",
              "      <td>-0.143601</td>\n",
              "      <td>-0.002302</td>\n",
              "      <td>-0.001540</td>\n",
              "      <td>0.071768</td>\n",
              "      <td>0.069904</td>\n",
              "      <td>-0.082584</td>\n",
              "      <td>-0.099827</td>\n",
              "      <td>0.002272</td>\n",
              "      <td>0.073022</td>\n",
              "      <td>...</td>\n",
              "      <td>0.035821</td>\n",
              "      <td>0.031079</td>\n",
              "      <td>0.007029</td>\n",
              "      <td>-0.045504</td>\n",
              "      <td>-0.015442</td>\n",
              "      <td>0.039388</td>\n",
              "      <td>1.000000</td>\n",
              "      <td>0.996211</td>\n",
              "      <td>0.052537</td>\n",
              "      <td>0.891051</td>\n",
              "    </tr>\n",
              "    <tr>\n",
              "      <th>INT_IDEO</th>\n",
              "      <td>-0.133252</td>\n",
              "      <td>-0.133253</td>\n",
              "      <td>-0.002034</td>\n",
              "      <td>-0.001621</td>\n",
              "      <td>0.075147</td>\n",
              "      <td>0.067564</td>\n",
              "      <td>-0.071917</td>\n",
              "      <td>-0.094470</td>\n",
              "      <td>0.002268</td>\n",
              "      <td>0.071333</td>\n",
              "      <td>...</td>\n",
              "      <td>0.039053</td>\n",
              "      <td>0.041983</td>\n",
              "      <td>0.013162</td>\n",
              "      <td>-0.039844</td>\n",
              "      <td>-0.016234</td>\n",
              "      <td>0.040947</td>\n",
              "      <td>0.996211</td>\n",
              "      <td>1.000000</td>\n",
              "      <td>0.082014</td>\n",
              "      <td>0.893811</td>\n",
              "    </tr>\n",
              "    <tr>\n",
              "      <th>INT_MISC</th>\n",
              "      <td>-0.077852</td>\n",
              "      <td>-0.077847</td>\n",
              "      <td>-0.002554</td>\n",
              "      <td>-0.002027</td>\n",
              "      <td>0.027335</td>\n",
              "      <td>0.207281</td>\n",
              "      <td>0.043139</td>\n",
              "      <td>0.097652</td>\n",
              "      <td>0.000371</td>\n",
              "      <td>-0.019197</td>\n",
              "      <td>...</td>\n",
              "      <td>0.023815</td>\n",
              "      <td>0.125162</td>\n",
              "      <td>0.037227</td>\n",
              "      <td>0.129274</td>\n",
              "      <td>-0.119776</td>\n",
              "      <td>0.085055</td>\n",
              "      <td>0.052537</td>\n",
              "      <td>0.082014</td>\n",
              "      <td>1.000000</td>\n",
              "      <td>0.252193</td>\n",
              "    </tr>\n",
              "    <tr>\n",
              "      <th>INT_ANY</th>\n",
              "      <td>-0.175605</td>\n",
              "      <td>-0.175596</td>\n",
              "      <td>-0.006336</td>\n",
              "      <td>-0.001199</td>\n",
              "      <td>0.080767</td>\n",
              "      <td>0.153118</td>\n",
              "      <td>-0.047900</td>\n",
              "      <td>-0.041530</td>\n",
              "      <td>0.002497</td>\n",
              "      <td>0.061389</td>\n",
              "      <td>...</td>\n",
              "      <td>0.028054</td>\n",
              "      <td>0.053484</td>\n",
              "      <td>0.007275</td>\n",
              "      <td>0.056438</td>\n",
              "      <td>-0.061946</td>\n",
              "      <td>0.064759</td>\n",
              "      <td>0.891051</td>\n",
              "      <td>0.893811</td>\n",
              "      <td>0.252193</td>\n",
              "      <td>1.000000</td>\n",
              "    </tr>\n",
              "  </tbody>\n",
              "</table>\n",
              "<p>77 rows × 77 columns</p>\n",
              "</div>\n",
              "      <button class=\"colab-df-convert\" onclick=\"convertToInteractive('df-6647cd77-88c6-4069-8b69-e31870645ca0')\"\n",
              "              title=\"Convert this dataframe to an interactive table.\"\n",
              "              style=\"display:none;\">\n",
              "        \n",
              "  <svg xmlns=\"http://www.w3.org/2000/svg\" height=\"24px\"viewBox=\"0 0 24 24\"\n",
              "       width=\"24px\">\n",
              "    <path d=\"M0 0h24v24H0V0z\" fill=\"none\"/>\n",
              "    <path d=\"M18.56 5.44l.94 2.06.94-2.06 2.06-.94-2.06-.94-.94-2.06-.94 2.06-2.06.94zm-11 1L8.5 8.5l.94-2.06 2.06-.94-2.06-.94L8.5 2.5l-.94 2.06-2.06.94zm10 10l.94 2.06.94-2.06 2.06-.94-2.06-.94-.94-2.06-.94 2.06-2.06.94z\"/><path d=\"M17.41 7.96l-1.37-1.37c-.4-.4-.92-.59-1.43-.59-.52 0-1.04.2-1.43.59L10.3 9.45l-7.72 7.72c-.78.78-.78 2.05 0 2.83L4 21.41c.39.39.9.59 1.41.59.51 0 1.02-.2 1.41-.59l7.78-7.78 2.81-2.81c.8-.78.8-2.07 0-2.86zM5.41 20L4 18.59l7.72-7.72 1.47 1.35L5.41 20z\"/>\n",
              "  </svg>\n",
              "      </button>\n",
              "      \n",
              "  <style>\n",
              "    .colab-df-container {\n",
              "      display:flex;\n",
              "      flex-wrap:wrap;\n",
              "      gap: 12px;\n",
              "    }\n",
              "\n",
              "    .colab-df-convert {\n",
              "      background-color: #E8F0FE;\n",
              "      border: none;\n",
              "      border-radius: 50%;\n",
              "      cursor: pointer;\n",
              "      display: none;\n",
              "      fill: #1967D2;\n",
              "      height: 32px;\n",
              "      padding: 0 0 0 0;\n",
              "      width: 32px;\n",
              "    }\n",
              "\n",
              "    .colab-df-convert:hover {\n",
              "      background-color: #E2EBFA;\n",
              "      box-shadow: 0px 1px 2px rgba(60, 64, 67, 0.3), 0px 1px 3px 1px rgba(60, 64, 67, 0.15);\n",
              "      fill: #174EA6;\n",
              "    }\n",
              "\n",
              "    [theme=dark] .colab-df-convert {\n",
              "      background-color: #3B4455;\n",
              "      fill: #D2E3FC;\n",
              "    }\n",
              "\n",
              "    [theme=dark] .colab-df-convert:hover {\n",
              "      background-color: #434B5C;\n",
              "      box-shadow: 0px 1px 3px 1px rgba(0, 0, 0, 0.15);\n",
              "      filter: drop-shadow(0px 1px 2px rgba(0, 0, 0, 0.3));\n",
              "      fill: #FFFFFF;\n",
              "    }\n",
              "  </style>\n",
              "\n",
              "      <script>\n",
              "        const buttonEl =\n",
              "          document.querySelector('#df-6647cd77-88c6-4069-8b69-e31870645ca0 button.colab-df-convert');\n",
              "        buttonEl.style.display =\n",
              "          google.colab.kernel.accessAllowed ? 'block' : 'none';\n",
              "\n",
              "        async function convertToInteractive(key) {\n",
              "          const element = document.querySelector('#df-6647cd77-88c6-4069-8b69-e31870645ca0');\n",
              "          const dataTable =\n",
              "            await google.colab.kernel.invokeFunction('convertToInteractive',\n",
              "                                                     [key], {});\n",
              "          if (!dataTable) return;\n",
              "\n",
              "          const docLinkHtml = 'Like what you see? Visit the ' +\n",
              "            '<a target=\"_blank\" href=https://colab.research.google.com/notebooks/data_table.ipynb>data table notebook</a>'\n",
              "            + ' to learn more about interactive tables.';\n",
              "          element.innerHTML = '';\n",
              "          dataTable['output_type'] = 'display_data';\n",
              "          await google.colab.output.renderOutput(dataTable, element);\n",
              "          const docLink = document.createElement('div');\n",
              "          docLink.innerHTML = docLinkHtml;\n",
              "          element.appendChild(docLink);\n",
              "        }\n",
              "      </script>\n",
              "    </div>\n",
              "  </div>\n",
              "  "
            ]
          },
          "metadata": {},
          "execution_count": 242
        }
      ],
      "source": [
        "data_td.corr()"
      ]
    },
    {
      "cell_type": "markdown",
      "source": [
        "**Shows the columns in the dataset...**"
      ],
      "metadata": {
        "id": "FtP7iA5mcAi7"
      }
    },
    {
      "cell_type": "code",
      "execution_count": null,
      "metadata": {
        "colab": {
          "base_uri": "https://localhost:8080/"
        },
        "id": "H7eTKKeVjpGG",
        "outputId": "600d488c-ea37-41b5-eb49-0e5db107a29c"
      },
      "outputs": [
        {
          "output_type": "execute_result",
          "data": {
            "text/plain": [
              "Index(['eventid', 'iyear', 'imonth', 'iday', 'approxdate', 'extended',\n",
              "       'resolution', 'country', 'country_txt', 'region',\n",
              "       ...\n",
              "       'addnotes', 'scite1', 'scite2', 'scite3', 'dbsource', 'INT_LOG',\n",
              "       'INT_IDEO', 'INT_MISC', 'INT_ANY', 'related'],\n",
              "      dtype='object', length=135)"
            ]
          },
          "metadata": {},
          "execution_count": 243
        }
      ],
      "source": [
        "data_td.columns"
      ]
    },
    {
      "cell_type": "markdown",
      "source": [
        "Here it shows that there are 135 columns in the dataset."
      ],
      "metadata": {
        "id": "_YvKHygYcR5x"
      }
    },
    {
      "cell_type": "markdown",
      "source": [
        "**No. of rows and no. of columns in the dataset.**"
      ],
      "metadata": {
        "id": "gupW7JN_caWT"
      }
    },
    {
      "cell_type": "code",
      "execution_count": null,
      "metadata": {
        "colab": {
          "base_uri": "https://localhost:8080/"
        },
        "id": "XLRwVwCWj5jR",
        "outputId": "c3adc8c9-5e61-45fc-cb4f-088018df7aa8"
      },
      "outputs": [
        {
          "output_type": "stream",
          "name": "stdout",
          "text": [
            "There are 181691 rows and 135 columns in the dataset\n"
          ]
        }
      ],
      "source": [
        "print(\"There are {} rows and {} columns in the dataset\".format(data_td.shape[0],data_td.shape[1]))"
      ]
    },
    {
      "cell_type": "markdown",
      "metadata": {
        "id": "1gFB_-fhNHiT"
      },
      "source": [
        "**View the total number of unique columns in the dataset.**"
      ]
    },
    {
      "cell_type": "code",
      "execution_count": null,
      "metadata": {
        "colab": {
          "base_uri": "https://localhost:8080/"
        },
        "id": "v12J6eYnLJCz",
        "outputId": "e251a38b-4cb6-48c2-e363-cfc27c19b3e0"
      },
      "outputs": [
        {
          "output_type": "stream",
          "name": "stdout",
          "text": [
            "There are total 135 columns in the data\n"
          ]
        }
      ],
      "source": [
        "No_of_cols=data_td.columns.nunique()\n",
        "print(\"There are total %d columns in the data\"%No_of_cols)"
      ]
    },
    {
      "cell_type": "markdown",
      "metadata": {
        "id": "b8105UxRUF6G"
      },
      "source": [
        "**Rename some columns which we are going to use for analysis**"
      ]
    },
    {
      "cell_type": "code",
      "execution_count": null,
      "metadata": {
        "id": "_5KCZFdAUOSe"
      },
      "outputs": [],
      "source": [
        "data_td=data_td.rename(columns={'iyear':'Year','imonth':'Month','iday':'Day','country_txt':'Country','region_txt':'Region',\n",
        "                             'provstate':'State','city':'City','attacktype1_txt':'Attack_type','targtype1_txt':'Target_type',\n",
        "                             'targsubtype1_txt':'Target_subtype','gname':'Gang_name','weaptype1_txt':'Weapon_type'})"
      ]
    },
    {
      "cell_type": "markdown",
      "source": [
        "**Show the dataset in updated column name upto 10 rows.**"
      ],
      "metadata": {
        "id": "diHEtig5cuis"
      }
    },
    {
      "cell_type": "code",
      "execution_count": null,
      "metadata": {
        "colab": {
          "base_uri": "https://localhost:8080/",
          "height": 838
        },
        "id": "q7JmxzP0UrV5",
        "outputId": "58dd2ec1-9ee6-44ed-ea2d-5332d3ee7df8"
      },
      "outputs": [
        {
          "output_type": "execute_result",
          "data": {
            "text/plain": [
              "        eventid  Year  Month  Day approxdate  extended resolution  country  \\\n",
              "0  197000000001  1970      7    2        NaN         0        NaN       58   \n",
              "1  197000000002  1970      0    0        NaN         0        NaN      130   \n",
              "2  197001000001  1970      1    0        NaN         0        NaN      160   \n",
              "3  197001000002  1970      1    0        NaN         0        NaN       78   \n",
              "4  197001000003  1970      1    0        NaN         0        NaN      101   \n",
              "5  197001010002  1970      1    1        NaN         0        NaN      217   \n",
              "6  197001020001  1970      1    2        NaN         0        NaN      218   \n",
              "7  197001020002  1970      1    2        NaN         0        NaN      217   \n",
              "8  197001020003  1970      1    2        NaN         0        NaN      217   \n",
              "9  197001030001  1970      1    3        NaN         0        NaN      217   \n",
              "\n",
              "              Country  region  ...  \\\n",
              "0  Dominican Republic       2  ...   \n",
              "1              Mexico       1  ...   \n",
              "2         Philippines       5  ...   \n",
              "3              Greece       8  ...   \n",
              "4               Japan       4  ...   \n",
              "5       United States       1  ...   \n",
              "6             Uruguay       3  ...   \n",
              "7       United States       1  ...   \n",
              "8       United States       1  ...   \n",
              "9       United States       1  ...   \n",
              "\n",
              "                                            addnotes  \\\n",
              "0                                                NaN   \n",
              "1                                                NaN   \n",
              "2                                                NaN   \n",
              "3                                                NaN   \n",
              "4                                                NaN   \n",
              "5  The Cairo Chief of Police, William Petersen, r...   \n",
              "6                                                NaN   \n",
              "7  Damages were estimated to be between $20,000-$...   \n",
              "8  The New Years Gang issue a communiqué to a loc...   \n",
              "9  Karl Armstrong's girlfriend, Lynn Schultz, dro...   \n",
              "\n",
              "                                              scite1  \\\n",
              "0                                                NaN   \n",
              "1                                                NaN   \n",
              "2                                                NaN   \n",
              "3                                                NaN   \n",
              "4                                                NaN   \n",
              "5  \"Police Chief Quits,\" Washington Post, January...   \n",
              "6                                                NaN   \n",
              "7  Committee on Government Operations United Stat...   \n",
              "8  Tom Bates, \"Rads: The 1970 Bombing of the Army...   \n",
              "9  Committee on Government Operations United Stat...   \n",
              "\n",
              "                                              scite2  \\\n",
              "0                                                NaN   \n",
              "1                                                NaN   \n",
              "2                                                NaN   \n",
              "3                                                NaN   \n",
              "4                                                NaN   \n",
              "5  \"Cairo Police Chief Quits; Decries Local 'Mili...   \n",
              "6                                                NaN   \n",
              "7  Christopher Hewitt, \"Political Violence and Te...   \n",
              "8  David Newman, Sandra Sutherland, and Jon Stewa...   \n",
              "9  Tom Bates, \"Rads: The 1970 Bombing of the Army...   \n",
              "\n",
              "                                              scite3        dbsource  INT_LOG  \\\n",
              "0                                                NaN            PGIS        0   \n",
              "1                                                NaN            PGIS        0   \n",
              "2                                                NaN            PGIS       -9   \n",
              "3                                                NaN            PGIS       -9   \n",
              "4                                                NaN            PGIS       -9   \n",
              "5  Christopher Hewitt, \"Political Violence and Te...  Hewitt Project       -9   \n",
              "6                                                NaN            PGIS        0   \n",
              "7                                                NaN  Hewitt Project       -9   \n",
              "8  The Wisconsin Cartographers' Guild, \"Wisconsin...  Hewitt Project        0   \n",
              "9  David Newman, Sandra Sutherland, and Jon Stewa...  Hewitt Project        0   \n",
              "\n",
              "   INT_IDEO INT_MISC INT_ANY  related  \n",
              "0         0        0       0      NaN  \n",
              "1         1        1       1      NaN  \n",
              "2        -9        1       1      NaN  \n",
              "3        -9        1       1      NaN  \n",
              "4        -9        1       1      NaN  \n",
              "5        -9        0      -9      NaN  \n",
              "6         0        0       0      NaN  \n",
              "7        -9        0      -9      NaN  \n",
              "8         0        0       0      NaN  \n",
              "9         0        0       0      NaN  \n",
              "\n",
              "[10 rows x 135 columns]"
            ],
            "text/html": [
              "\n",
              "  <div id=\"df-60c84e75-bcbb-498d-b23c-70567c7361af\">\n",
              "    <div class=\"colab-df-container\">\n",
              "      <div>\n",
              "<style scoped>\n",
              "    .dataframe tbody tr th:only-of-type {\n",
              "        vertical-align: middle;\n",
              "    }\n",
              "\n",
              "    .dataframe tbody tr th {\n",
              "        vertical-align: top;\n",
              "    }\n",
              "\n",
              "    .dataframe thead th {\n",
              "        text-align: right;\n",
              "    }\n",
              "</style>\n",
              "<table border=\"1\" class=\"dataframe\">\n",
              "  <thead>\n",
              "    <tr style=\"text-align: right;\">\n",
              "      <th></th>\n",
              "      <th>eventid</th>\n",
              "      <th>Year</th>\n",
              "      <th>Month</th>\n",
              "      <th>Day</th>\n",
              "      <th>approxdate</th>\n",
              "      <th>extended</th>\n",
              "      <th>resolution</th>\n",
              "      <th>country</th>\n",
              "      <th>Country</th>\n",
              "      <th>region</th>\n",
              "      <th>...</th>\n",
              "      <th>addnotes</th>\n",
              "      <th>scite1</th>\n",
              "      <th>scite2</th>\n",
              "      <th>scite3</th>\n",
              "      <th>dbsource</th>\n",
              "      <th>INT_LOG</th>\n",
              "      <th>INT_IDEO</th>\n",
              "      <th>INT_MISC</th>\n",
              "      <th>INT_ANY</th>\n",
              "      <th>related</th>\n",
              "    </tr>\n",
              "  </thead>\n",
              "  <tbody>\n",
              "    <tr>\n",
              "      <th>0</th>\n",
              "      <td>197000000001</td>\n",
              "      <td>1970</td>\n",
              "      <td>7</td>\n",
              "      <td>2</td>\n",
              "      <td>NaN</td>\n",
              "      <td>0</td>\n",
              "      <td>NaN</td>\n",
              "      <td>58</td>\n",
              "      <td>Dominican Republic</td>\n",
              "      <td>2</td>\n",
              "      <td>...</td>\n",
              "      <td>NaN</td>\n",
              "      <td>NaN</td>\n",
              "      <td>NaN</td>\n",
              "      <td>NaN</td>\n",
              "      <td>PGIS</td>\n",
              "      <td>0</td>\n",
              "      <td>0</td>\n",
              "      <td>0</td>\n",
              "      <td>0</td>\n",
              "      <td>NaN</td>\n",
              "    </tr>\n",
              "    <tr>\n",
              "      <th>1</th>\n",
              "      <td>197000000002</td>\n",
              "      <td>1970</td>\n",
              "      <td>0</td>\n",
              "      <td>0</td>\n",
              "      <td>NaN</td>\n",
              "      <td>0</td>\n",
              "      <td>NaN</td>\n",
              "      <td>130</td>\n",
              "      <td>Mexico</td>\n",
              "      <td>1</td>\n",
              "      <td>...</td>\n",
              "      <td>NaN</td>\n",
              "      <td>NaN</td>\n",
              "      <td>NaN</td>\n",
              "      <td>NaN</td>\n",
              "      <td>PGIS</td>\n",
              "      <td>0</td>\n",
              "      <td>1</td>\n",
              "      <td>1</td>\n",
              "      <td>1</td>\n",
              "      <td>NaN</td>\n",
              "    </tr>\n",
              "    <tr>\n",
              "      <th>2</th>\n",
              "      <td>197001000001</td>\n",
              "      <td>1970</td>\n",
              "      <td>1</td>\n",
              "      <td>0</td>\n",
              "      <td>NaN</td>\n",
              "      <td>0</td>\n",
              "      <td>NaN</td>\n",
              "      <td>160</td>\n",
              "      <td>Philippines</td>\n",
              "      <td>5</td>\n",
              "      <td>...</td>\n",
              "      <td>NaN</td>\n",
              "      <td>NaN</td>\n",
              "      <td>NaN</td>\n",
              "      <td>NaN</td>\n",
              "      <td>PGIS</td>\n",
              "      <td>-9</td>\n",
              "      <td>-9</td>\n",
              "      <td>1</td>\n",
              "      <td>1</td>\n",
              "      <td>NaN</td>\n",
              "    </tr>\n",
              "    <tr>\n",
              "      <th>3</th>\n",
              "      <td>197001000002</td>\n",
              "      <td>1970</td>\n",
              "      <td>1</td>\n",
              "      <td>0</td>\n",
              "      <td>NaN</td>\n",
              "      <td>0</td>\n",
              "      <td>NaN</td>\n",
              "      <td>78</td>\n",
              "      <td>Greece</td>\n",
              "      <td>8</td>\n",
              "      <td>...</td>\n",
              "      <td>NaN</td>\n",
              "      <td>NaN</td>\n",
              "      <td>NaN</td>\n",
              "      <td>NaN</td>\n",
              "      <td>PGIS</td>\n",
              "      <td>-9</td>\n",
              "      <td>-9</td>\n",
              "      <td>1</td>\n",
              "      <td>1</td>\n",
              "      <td>NaN</td>\n",
              "    </tr>\n",
              "    <tr>\n",
              "      <th>4</th>\n",
              "      <td>197001000003</td>\n",
              "      <td>1970</td>\n",
              "      <td>1</td>\n",
              "      <td>0</td>\n",
              "      <td>NaN</td>\n",
              "      <td>0</td>\n",
              "      <td>NaN</td>\n",
              "      <td>101</td>\n",
              "      <td>Japan</td>\n",
              "      <td>4</td>\n",
              "      <td>...</td>\n",
              "      <td>NaN</td>\n",
              "      <td>NaN</td>\n",
              "      <td>NaN</td>\n",
              "      <td>NaN</td>\n",
              "      <td>PGIS</td>\n",
              "      <td>-9</td>\n",
              "      <td>-9</td>\n",
              "      <td>1</td>\n",
              "      <td>1</td>\n",
              "      <td>NaN</td>\n",
              "    </tr>\n",
              "    <tr>\n",
              "      <th>5</th>\n",
              "      <td>197001010002</td>\n",
              "      <td>1970</td>\n",
              "      <td>1</td>\n",
              "      <td>1</td>\n",
              "      <td>NaN</td>\n",
              "      <td>0</td>\n",
              "      <td>NaN</td>\n",
              "      <td>217</td>\n",
              "      <td>United States</td>\n",
              "      <td>1</td>\n",
              "      <td>...</td>\n",
              "      <td>The Cairo Chief of Police, William Petersen, r...</td>\n",
              "      <td>\"Police Chief Quits,\" Washington Post, January...</td>\n",
              "      <td>\"Cairo Police Chief Quits; Decries Local 'Mili...</td>\n",
              "      <td>Christopher Hewitt, \"Political Violence and Te...</td>\n",
              "      <td>Hewitt Project</td>\n",
              "      <td>-9</td>\n",
              "      <td>-9</td>\n",
              "      <td>0</td>\n",
              "      <td>-9</td>\n",
              "      <td>NaN</td>\n",
              "    </tr>\n",
              "    <tr>\n",
              "      <th>6</th>\n",
              "      <td>197001020001</td>\n",
              "      <td>1970</td>\n",
              "      <td>1</td>\n",
              "      <td>2</td>\n",
              "      <td>NaN</td>\n",
              "      <td>0</td>\n",
              "      <td>NaN</td>\n",
              "      <td>218</td>\n",
              "      <td>Uruguay</td>\n",
              "      <td>3</td>\n",
              "      <td>...</td>\n",
              "      <td>NaN</td>\n",
              "      <td>NaN</td>\n",
              "      <td>NaN</td>\n",
              "      <td>NaN</td>\n",
              "      <td>PGIS</td>\n",
              "      <td>0</td>\n",
              "      <td>0</td>\n",
              "      <td>0</td>\n",
              "      <td>0</td>\n",
              "      <td>NaN</td>\n",
              "    </tr>\n",
              "    <tr>\n",
              "      <th>7</th>\n",
              "      <td>197001020002</td>\n",
              "      <td>1970</td>\n",
              "      <td>1</td>\n",
              "      <td>2</td>\n",
              "      <td>NaN</td>\n",
              "      <td>0</td>\n",
              "      <td>NaN</td>\n",
              "      <td>217</td>\n",
              "      <td>United States</td>\n",
              "      <td>1</td>\n",
              "      <td>...</td>\n",
              "      <td>Damages were estimated to be between $20,000-$...</td>\n",
              "      <td>Committee on Government Operations United Stat...</td>\n",
              "      <td>Christopher Hewitt, \"Political Violence and Te...</td>\n",
              "      <td>NaN</td>\n",
              "      <td>Hewitt Project</td>\n",
              "      <td>-9</td>\n",
              "      <td>-9</td>\n",
              "      <td>0</td>\n",
              "      <td>-9</td>\n",
              "      <td>NaN</td>\n",
              "    </tr>\n",
              "    <tr>\n",
              "      <th>8</th>\n",
              "      <td>197001020003</td>\n",
              "      <td>1970</td>\n",
              "      <td>1</td>\n",
              "      <td>2</td>\n",
              "      <td>NaN</td>\n",
              "      <td>0</td>\n",
              "      <td>NaN</td>\n",
              "      <td>217</td>\n",
              "      <td>United States</td>\n",
              "      <td>1</td>\n",
              "      <td>...</td>\n",
              "      <td>The New Years Gang issue a communiqué to a loc...</td>\n",
              "      <td>Tom Bates, \"Rads: The 1970 Bombing of the Army...</td>\n",
              "      <td>David Newman, Sandra Sutherland, and Jon Stewa...</td>\n",
              "      <td>The Wisconsin Cartographers' Guild, \"Wisconsin...</td>\n",
              "      <td>Hewitt Project</td>\n",
              "      <td>0</td>\n",
              "      <td>0</td>\n",
              "      <td>0</td>\n",
              "      <td>0</td>\n",
              "      <td>NaN</td>\n",
              "    </tr>\n",
              "    <tr>\n",
              "      <th>9</th>\n",
              "      <td>197001030001</td>\n",
              "      <td>1970</td>\n",
              "      <td>1</td>\n",
              "      <td>3</td>\n",
              "      <td>NaN</td>\n",
              "      <td>0</td>\n",
              "      <td>NaN</td>\n",
              "      <td>217</td>\n",
              "      <td>United States</td>\n",
              "      <td>1</td>\n",
              "      <td>...</td>\n",
              "      <td>Karl Armstrong's girlfriend, Lynn Schultz, dro...</td>\n",
              "      <td>Committee on Government Operations United Stat...</td>\n",
              "      <td>Tom Bates, \"Rads: The 1970 Bombing of the Army...</td>\n",
              "      <td>David Newman, Sandra Sutherland, and Jon Stewa...</td>\n",
              "      <td>Hewitt Project</td>\n",
              "      <td>0</td>\n",
              "      <td>0</td>\n",
              "      <td>0</td>\n",
              "      <td>0</td>\n",
              "      <td>NaN</td>\n",
              "    </tr>\n",
              "  </tbody>\n",
              "</table>\n",
              "<p>10 rows × 135 columns</p>\n",
              "</div>\n",
              "      <button class=\"colab-df-convert\" onclick=\"convertToInteractive('df-60c84e75-bcbb-498d-b23c-70567c7361af')\"\n",
              "              title=\"Convert this dataframe to an interactive table.\"\n",
              "              style=\"display:none;\">\n",
              "        \n",
              "  <svg xmlns=\"http://www.w3.org/2000/svg\" height=\"24px\"viewBox=\"0 0 24 24\"\n",
              "       width=\"24px\">\n",
              "    <path d=\"M0 0h24v24H0V0z\" fill=\"none\"/>\n",
              "    <path d=\"M18.56 5.44l.94 2.06.94-2.06 2.06-.94-2.06-.94-.94-2.06-.94 2.06-2.06.94zm-11 1L8.5 8.5l.94-2.06 2.06-.94-2.06-.94L8.5 2.5l-.94 2.06-2.06.94zm10 10l.94 2.06.94-2.06 2.06-.94-2.06-.94-.94-2.06-.94 2.06-2.06.94z\"/><path d=\"M17.41 7.96l-1.37-1.37c-.4-.4-.92-.59-1.43-.59-.52 0-1.04.2-1.43.59L10.3 9.45l-7.72 7.72c-.78.78-.78 2.05 0 2.83L4 21.41c.39.39.9.59 1.41.59.51 0 1.02-.2 1.41-.59l7.78-7.78 2.81-2.81c.8-.78.8-2.07 0-2.86zM5.41 20L4 18.59l7.72-7.72 1.47 1.35L5.41 20z\"/>\n",
              "  </svg>\n",
              "      </button>\n",
              "      \n",
              "  <style>\n",
              "    .colab-df-container {\n",
              "      display:flex;\n",
              "      flex-wrap:wrap;\n",
              "      gap: 12px;\n",
              "    }\n",
              "\n",
              "    .colab-df-convert {\n",
              "      background-color: #E8F0FE;\n",
              "      border: none;\n",
              "      border-radius: 50%;\n",
              "      cursor: pointer;\n",
              "      display: none;\n",
              "      fill: #1967D2;\n",
              "      height: 32px;\n",
              "      padding: 0 0 0 0;\n",
              "      width: 32px;\n",
              "    }\n",
              "\n",
              "    .colab-df-convert:hover {\n",
              "      background-color: #E2EBFA;\n",
              "      box-shadow: 0px 1px 2px rgba(60, 64, 67, 0.3), 0px 1px 3px 1px rgba(60, 64, 67, 0.15);\n",
              "      fill: #174EA6;\n",
              "    }\n",
              "\n",
              "    [theme=dark] .colab-df-convert {\n",
              "      background-color: #3B4455;\n",
              "      fill: #D2E3FC;\n",
              "    }\n",
              "\n",
              "    [theme=dark] .colab-df-convert:hover {\n",
              "      background-color: #434B5C;\n",
              "      box-shadow: 0px 1px 3px 1px rgba(0, 0, 0, 0.15);\n",
              "      filter: drop-shadow(0px 1px 2px rgba(0, 0, 0, 0.3));\n",
              "      fill: #FFFFFF;\n",
              "    }\n",
              "  </style>\n",
              "\n",
              "      <script>\n",
              "        const buttonEl =\n",
              "          document.querySelector('#df-60c84e75-bcbb-498d-b23c-70567c7361af button.colab-df-convert');\n",
              "        buttonEl.style.display =\n",
              "          google.colab.kernel.accessAllowed ? 'block' : 'none';\n",
              "\n",
              "        async function convertToInteractive(key) {\n",
              "          const element = document.querySelector('#df-60c84e75-bcbb-498d-b23c-70567c7361af');\n",
              "          const dataTable =\n",
              "            await google.colab.kernel.invokeFunction('convertToInteractive',\n",
              "                                                     [key], {});\n",
              "          if (!dataTable) return;\n",
              "\n",
              "          const docLinkHtml = 'Like what you see? Visit the ' +\n",
              "            '<a target=\"_blank\" href=https://colab.research.google.com/notebooks/data_table.ipynb>data table notebook</a>'\n",
              "            + ' to learn more about interactive tables.';\n",
              "          element.innerHTML = '';\n",
              "          dataTable['output_type'] = 'display_data';\n",
              "          await google.colab.output.renderOutput(dataTable, element);\n",
              "          const docLink = document.createElement('div');\n",
              "          docLink.innerHTML = docLinkHtml;\n",
              "          element.appendChild(docLink);\n",
              "        }\n",
              "      </script>\n",
              "    </div>\n",
              "  </div>\n",
              "  "
            ]
          },
          "metadata": {},
          "execution_count": 247
        }
      ],
      "source": [
        "data_td.head(10)"
      ]
    },
    {
      "cell_type": "markdown",
      "metadata": {
        "id": "E_EBYXjmVRlk"
      },
      "source": [
        "**Check for null values.**"
      ]
    },
    {
      "cell_type": "code",
      "execution_count": null,
      "metadata": {
        "colab": {
          "base_uri": "https://localhost:8080/"
        },
        "id": "1h9wBb8sU1rJ",
        "outputId": "3ab6e441-8f98-4e21-b250-2462f0dd97be"
      },
      "outputs": [
        {
          "output_type": "execute_result",
          "data": {
            "text/plain": [
              "eventid            0\n",
              "Year               0\n",
              "Month              0\n",
              "Day                0\n",
              "approxdate    172452\n",
              "               ...  \n",
              "INT_LOG            0\n",
              "INT_IDEO           0\n",
              "INT_MISC           0\n",
              "INT_ANY            0\n",
              "related       156653\n",
              "Length: 135, dtype: int64"
            ]
          },
          "metadata": {},
          "execution_count": 248
        }
      ],
      "source": [
        "data_td.isnull().sum()"
      ]
    },
    {
      "cell_type": "markdown",
      "metadata": {
        "id": "QkOgjGO1VqM6"
      },
      "source": [
        "**View unique column names.**"
      ]
    },
    {
      "cell_type": "code",
      "execution_count": null,
      "metadata": {
        "colab": {
          "base_uri": "https://localhost:8080/"
        },
        "id": "hzmhUDAaVsZb",
        "outputId": "1d844ecf-e40e-4e1a-81ba-6ca708114cc2"
      },
      "outputs": [
        {
          "output_type": "execute_result",
          "data": {
            "text/plain": [
              "Index(['eventid', 'Year', 'Month', 'Day', 'approxdate', 'extended',\n",
              "       'resolution', 'country', 'Country', 'region',\n",
              "       ...\n",
              "       'addnotes', 'scite1', 'scite2', 'scite3', 'dbsource', 'INT_LOG',\n",
              "       'INT_IDEO', 'INT_MISC', 'INT_ANY', 'related'],\n",
              "      dtype='object', length=135)"
            ]
          },
          "metadata": {},
          "execution_count": 249
        }
      ],
      "source": [
        "data_td.columns.unique()"
      ]
    },
    {
      "cell_type": "markdown",
      "metadata": {
        "id": "x3G2JjK9V0eu"
      },
      "source": [
        "**How many country affected by terrorism attack ?**"
      ]
    },
    {
      "cell_type": "code",
      "execution_count": null,
      "metadata": {
        "colab": {
          "base_uri": "https://localhost:8080/"
        },
        "id": "NtjO60h8Wjhr",
        "outputId": "1c825687-6675-4c4a-b953-470dcfe6c76a"
      },
      "outputs": [
        {
          "output_type": "stream",
          "name": "stdout",
          "text": [
            "Total 205 countries were noted in the data\n"
          ]
        }
      ],
      "source": [
        "Total_countries=data_td['Country'].nunique()\n",
        "print(\"Total %d countries were noted in the data\"%Total_countries)"
      ]
    },
    {
      "cell_type": "markdown",
      "source": [
        "**How many region shows in the dataset ?**"
      ],
      "metadata": {
        "id": "7nqCtZwjdSF-"
      }
    },
    {
      "cell_type": "code",
      "execution_count": null,
      "metadata": {
        "colab": {
          "base_uri": "https://localhost:8080/"
        },
        "id": "jslzifwTWvvk",
        "outputId": "20f59591-87ee-4d0d-b3ab-9b67f7b7f08b"
      },
      "outputs": [
        {
          "output_type": "stream",
          "name": "stdout",
          "text": [
            "['Central America & Caribbean' 'North America' 'Southeast Asia'\n",
            " 'Western Europe' 'East Asia' 'South America' 'Eastern Europe'\n",
            " 'Sub-Saharan Africa' 'Middle East & North Africa' 'Australasia & Oceania'\n",
            " 'South Asia' 'Central Asia']\n"
          ]
        }
      ],
      "source": [
        "print(data_td['Region'].unique())\n"
      ]
    },
    {
      "cell_type": "markdown",
      "source": [
        "**How many types of attacking procedure used by terrorist**"
      ],
      "metadata": {
        "id": "3npcJvAsdvNn"
      }
    },
    {
      "cell_type": "code",
      "execution_count": null,
      "metadata": {
        "colab": {
          "base_uri": "https://localhost:8080/"
        },
        "id": "_I9GYEhuW4Df",
        "outputId": "7483bc5b-ce8d-4bc4-edad-301a6068b474"
      },
      "outputs": [
        {
          "output_type": "stream",
          "name": "stdout",
          "text": [
            "['Assassination' 'Hostage Taking (Kidnapping)' 'Bombing/Explosion'\n",
            " 'Facility/Infrastructure Attack' 'Armed Assault' 'Hijacking' 'Unknown'\n",
            " 'Unarmed Assault' 'Hostage Taking (Barricade Incident)']\n"
          ]
        }
      ],
      "source": [
        "print(data_td['Attack_type'].unique())"
      ]
    },
    {
      "cell_type": "markdown",
      "source": [
        "**Where terrorist are targetted according to dataset ?**"
      ],
      "metadata": {
        "id": "jPSI8cwvfpOG"
      }
    },
    {
      "cell_type": "code",
      "execution_count": null,
      "metadata": {
        "colab": {
          "base_uri": "https://localhost:8080/"
        },
        "id": "-UB7iwNgbRqf",
        "outputId": "4b0080d3-10f8-4bad-e95b-cc1d96b37667"
      },
      "outputs": [
        {
          "output_type": "stream",
          "name": "stdout",
          "text": [
            "['Private Citizens & Property' 'Government (Diplomatic)'\n",
            " 'Journalists & Media' 'Police' 'Utilities' 'Military'\n",
            " 'Government (General)' 'Airports & Aircraft' 'Business'\n",
            " 'Educational Institution' 'Violent Political Party'\n",
            " 'Religious Figures/Institutions' 'Unknown' 'Transportation' 'Tourists'\n",
            " 'NGO' 'Telecommunication' 'Food or Water Supply'\n",
            " 'Terrorists/Non-State Militia' 'Other' 'Maritime' 'Abortion Related']\n"
          ]
        }
      ],
      "source": [
        "print(data_td['Target_type'].unique())"
      ]
    },
    {
      "cell_type": "markdown",
      "source": [
        "**Show the name of Gangs of the Terrorist in the dataset.**"
      ],
      "metadata": {
        "id": "T_I0mFbhgJH3"
      }
    },
    {
      "cell_type": "code",
      "execution_count": null,
      "metadata": {
        "colab": {
          "base_uri": "https://localhost:8080/"
        },
        "id": "w0b38CF5oDsw",
        "outputId": "b942f9f9-2ffd-4b80-9838-08132efe2371"
      },
      "outputs": [
        {
          "output_type": "stream",
          "name": "stdout",
          "text": [
            "['MANO-D' '23rd of September Communist League' 'Unknown' ...\n",
            " 'Fatoni Warriors' 'Minorities of Metropolitan Attacks'\n",
            " 'Baloch Republican Party']\n"
          ]
        }
      ],
      "source": [
        "print(data_td['Gang_name'].unique())"
      ]
    },
    {
      "cell_type": "markdown",
      "source": [
        "**How many number of gangs are in dataset ?**"
      ],
      "metadata": {
        "id": "brN1o6vjgjmq"
      }
    },
    {
      "cell_type": "code",
      "execution_count": null,
      "metadata": {
        "colab": {
          "base_uri": "https://localhost:8080/"
        },
        "id": "qn6HKVbgbz5r",
        "outputId": "b336ca74-cbf7-4d02-b9c6-c0085d6a8541"
      },
      "outputs": [
        {
          "output_type": "stream",
          "name": "stdout",
          "text": [
            "3537\n"
          ]
        }
      ],
      "source": [
        "print(data_td['Gang_name'].nunique())"
      ]
    },
    {
      "cell_type": "markdown",
      "source": [
        "**How many types of Weapon are used by Terrorist for attack in the dataset ?**"
      ],
      "metadata": {
        "id": "LoZJ6ahCgwul"
      }
    },
    {
      "cell_type": "code",
      "execution_count": null,
      "metadata": {
        "colab": {
          "base_uri": "https://localhost:8080/"
        },
        "id": "OdesDBbRb-NE",
        "outputId": "136c6206-5add-4eee-dcc6-a0a5beb7fe3c"
      },
      "outputs": [
        {
          "output_type": "stream",
          "name": "stdout",
          "text": [
            "['Unknown' 'Explosives' 'Incendiary' 'Firearms' 'Chemical' 'Melee'\n",
            " 'Sabotage Equipment'\n",
            " 'Vehicle (not to include vehicle-borne explosives, i.e., car or truck bombs)'\n",
            " 'Fake Weapons' 'Radiological' 'Other' 'Biological']\n"
          ]
        }
      ],
      "source": [
        "print(data_td['Weapon_type'].unique())\n"
      ]
    },
    {
      "cell_type": "markdown",
      "source": [
        "# **Basic Analysis of the given dataset of Global Terrorism**"
      ],
      "metadata": {
        "id": "uF5OakOB07SW"
      }
    },
    {
      "cell_type": "markdown",
      "metadata": {
        "id": "9H7b_WidclYq"
      },
      "source": [
        "**View top 10 affecting countries**"
      ]
    },
    {
      "cell_type": "code",
      "execution_count": null,
      "metadata": {
        "colab": {
          "base_uri": "https://localhost:8080/"
        },
        "id": "Ydp36IqQcoSZ",
        "outputId": "4286cfab-a297-44c7-f02a-d5becb00b539"
      },
      "outputs": [
        {
          "output_type": "execute_result",
          "data": {
            "text/plain": [
              "Iraq              24636\n",
              "Pakistan          14368\n",
              "Afghanistan       12731\n",
              "India             11960\n",
              "Colombia           8306\n",
              "Philippines        6908\n",
              "Peru               6096\n",
              "El Salvador        5320\n",
              "United Kingdom     5235\n",
              "Turkey             4292\n",
              "Name: Country, dtype: int64"
            ]
          },
          "metadata": {},
          "execution_count": 257
        }
      ],
      "source": [
        "data_td['Country'].value_counts().head(10)"
      ]
    },
    {
      "cell_type": "markdown",
      "source": [
        "**View top 10 affecting Region**"
      ],
      "metadata": {
        "id": "sAShHu3xhGHF"
      }
    },
    {
      "cell_type": "code",
      "execution_count": null,
      "metadata": {
        "colab": {
          "base_uri": "https://localhost:8080/"
        },
        "id": "8xqKTdGPc1mK",
        "outputId": "310ec015-8073-4758-e11c-030ca0249c68"
      },
      "outputs": [
        {
          "output_type": "execute_result",
          "data": {
            "text/plain": [
              "Middle East & North Africa     50474\n",
              "South Asia                     44974\n",
              "South America                  18978\n",
              "Sub-Saharan Africa             17550\n",
              "Western Europe                 16639\n",
              "Southeast Asia                 12485\n",
              "Central America & Caribbean    10344\n",
              "Eastern Europe                  5144\n",
              "North America                   3456\n",
              "East Asia                        802\n",
              "Name: Region, dtype: int64"
            ]
          },
          "metadata": {},
          "execution_count": 178
        }
      ],
      "source": [
        "data_td['Region'].value_counts().head(10)"
      ]
    },
    {
      "cell_type": "markdown",
      "metadata": {
        "id": "-8jVa5jtdOrX"
      },
      "source": [
        "**View top 10 affecting states**"
      ]
    },
    {
      "cell_type": "code",
      "execution_count": null,
      "metadata": {
        "colab": {
          "base_uri": "https://localhost:8080/"
        },
        "id": "SwUbdaCodJvt",
        "outputId": "ed226556-e144-43b2-d275-f0aa4d72d9cb"
      },
      "outputs": [
        {
          "output_type": "execute_result",
          "data": {
            "text/plain": [
              "Baghdad               7645\n",
              "Northern Ireland      4498\n",
              "Unknown               4290\n",
              "Balochistan           3710\n",
              "Saladin               3411\n",
              "Al Anbar              3299\n",
              "Nineveh               3241\n",
              "Sindh                 3206\n",
              "Khyber Pakhtunkhwa    3084\n",
              "Diyala                3041\n",
              "Name: State, dtype: int64"
            ]
          },
          "metadata": {},
          "execution_count": 258
        }
      ],
      "source": [
        "data_td['State'].value_counts().head(10)"
      ]
    },
    {
      "cell_type": "markdown",
      "source": [
        "**View top 10 affecting subtype**"
      ],
      "metadata": {
        "id": "hXnNyJCRkI3J"
      }
    },
    {
      "cell_type": "code",
      "execution_count": null,
      "metadata": {
        "colab": {
          "base_uri": "https://localhost:8080/"
        },
        "id": "ybxE8kKydT_I",
        "outputId": "21bbd8c9-1802-449e-8b58-dc8d4a26c88b"
      },
      "outputs": [
        {
          "output_type": "execute_result",
          "data": {
            "text/plain": [
              "Unnamed Civilian/Unspecified                               11596\n",
              "Police Security Forces/Officers                            11178\n",
              "Military Unit/Patrol/Convoy                                 8277\n",
              "Military Personnel (soldiers, troops, officers, forces)     7963\n",
              "Government Personnel (excluding police, military)           6610\n",
              "Village/City/Town/Suburb                                    6542\n",
              "Politician or Political Party Movement/Meeting/Rally        6306\n",
              "Police Building (headquarters, station, school)             5907\n",
              "Military Barracks/Base/Headquarters/Checkpost               5211\n",
              "Police Patrol (including vehicles and convoys)              5105\n",
              "Name: Target_subtype, dtype: int64"
            ]
          },
          "metadata": {},
          "execution_count": 259
        }
      ],
      "source": [
        "data_td['Target_subtype'].value_counts().head(10)"
      ]
    },
    {
      "cell_type": "markdown",
      "source": [
        "**View top 10 affecting city worldwide**"
      ],
      "metadata": {
        "id": "Ho56F8qvlHN4"
      }
    },
    {
      "cell_type": "code",
      "execution_count": null,
      "metadata": {
        "colab": {
          "base_uri": "https://localhost:8080/"
        },
        "id": "S5_vR1A-diaF",
        "outputId": "ff9f0228-358d-4bd7-bb16-206739da3c47"
      },
      "outputs": [
        {
          "output_type": "execute_result",
          "data": {
            "text/plain": [
              "Unknown         9775\n",
              "Baghdad         7589\n",
              "Karachi         2652\n",
              "Lima            2359\n",
              "Mosul           2265\n",
              "Belfast         2171\n",
              "Santiago        1621\n",
              "Mogadishu       1581\n",
              "San Salvador    1558\n",
              "Istanbul        1048\n",
              "Name: City, dtype: int64"
            ]
          },
          "metadata": {},
          "execution_count": 260
        }
      ],
      "source": [
        "data_td['City'].value_counts().head(10)"
      ]
    },
    {
      "cell_type": "markdown",
      "source": [
        "**View top 10 Attacking Procedure**"
      ],
      "metadata": {
        "id": "DLvibkYQl8Be"
      }
    },
    {
      "cell_type": "code",
      "execution_count": null,
      "metadata": {
        "colab": {
          "base_uri": "https://localhost:8080/"
        },
        "id": "svUdoxFTdqSl",
        "outputId": "a211c498-f7a8-49e4-88f7-0fb775aae494"
      },
      "outputs": [
        {
          "output_type": "execute_result",
          "data": {
            "text/plain": [
              "Bombing/Explosion                      88255\n",
              "Armed Assault                          42669\n",
              "Assassination                          19312\n",
              "Hostage Taking (Kidnapping)            11158\n",
              "Facility/Infrastructure Attack         10356\n",
              "Unknown                                 7276\n",
              "Unarmed Assault                         1015\n",
              "Hostage Taking (Barricade Incident)      991\n",
              "Hijacking                                659\n",
              "Name: Attack_type, dtype: int64"
            ]
          },
          "metadata": {},
          "execution_count": 182
        }
      ],
      "source": [
        "data_td['Attack_type'].value_counts().head(10)"
      ]
    },
    {
      "cell_type": "markdown",
      "source": [
        "**View top 10 Targetted Person or Property**"
      ],
      "metadata": {
        "id": "0rlD3n0Qnd31"
      }
    },
    {
      "cell_type": "code",
      "execution_count": null,
      "metadata": {
        "colab": {
          "base_uri": "https://localhost:8080/"
        },
        "id": "IEcdpPWxd3K9",
        "outputId": "db189a3a-bbfc-48e8-eb77-33c5566a6271"
      },
      "outputs": [
        {
          "output_type": "execute_result",
          "data": {
            "text/plain": [
              "Private Citizens & Property       43511\n",
              "Military                          27984\n",
              "Police                            24506\n",
              "Government (General)              21283\n",
              "Business                          20669\n",
              "Transportation                     6799\n",
              "Utilities                          6023\n",
              "Unknown                            5898\n",
              "Religious Figures/Institutions     4440\n",
              "Educational Institution            4322\n",
              "Name: Target_type, dtype: int64"
            ]
          },
          "metadata": {},
          "execution_count": 183
        }
      ],
      "source": [
        "data_td['Target_type'].value_counts().head(10)"
      ]
    },
    {
      "cell_type": "markdown",
      "source": [
        "**Top 10 gang name which have done most number of attacking**"
      ],
      "metadata": {
        "id": "YUjrJGGzoOcK"
      }
    },
    {
      "cell_type": "code",
      "execution_count": null,
      "metadata": {
        "colab": {
          "base_uri": "https://localhost:8080/"
        },
        "id": "J03A4NNUeCBZ",
        "outputId": "c8b0d619-f6f6-468d-9aec-f9559839f387"
      },
      "outputs": [
        {
          "output_type": "execute_result",
          "data": {
            "text/plain": [
              "Unknown                                             82782\n",
              "Taliban                                              7478\n",
              "Islamic State of Iraq and the Levant (ISIL)          5613\n",
              "Shining Path (SL)                                    4555\n",
              "Farabundo Marti National Liberation Front (FMLN)     3351\n",
              "Al-Shabaab                                           3288\n",
              "New People's Army (NPA)                              2772\n",
              "Irish Republican Army (IRA)                          2671\n",
              "Revolutionary Armed Forces of Colombia (FARC)        2487\n",
              "Boko Haram                                           2418\n",
              "Name: Gang_name, dtype: int64"
            ]
          },
          "metadata": {},
          "execution_count": 262
        }
      ],
      "source": [
        "data_td['Gang_name'].value_counts().head(10)"
      ]
    },
    {
      "cell_type": "markdown",
      "source": [
        "**Most used Weapon used by Terrorist**"
      ],
      "metadata": {
        "id": "lVFDVQicoe22"
      }
    },
    {
      "cell_type": "code",
      "execution_count": null,
      "metadata": {
        "colab": {
          "base_uri": "https://localhost:8080/"
        },
        "id": "PJ2jeqxTePw_",
        "outputId": "bcb344d0-bdcc-4327-8a40-8e9f703a1ca5"
      },
      "outputs": [
        {
          "output_type": "execute_result",
          "data": {
            "text/plain": [
              "Explosives    92426\n",
              "Firearms      58524\n",
              "Unknown       15157\n",
              "Incendiary    11135\n",
              "Melee          3655\n",
              "Name: Weapon_type, dtype: int64"
            ]
          },
          "metadata": {},
          "execution_count": 261
        }
      ],
      "source": [
        "data_td['Weapon_type'].value_counts().head(5)"
      ]
    },
    {
      "cell_type": "markdown",
      "source": [
        "# **Visualizations**"
      ],
      "metadata": {
        "id": "8HrOTQIYpQny"
      }
    },
    {
      "cell_type": "markdown",
      "source": [
        "**Showing Weapon type using counter plot**"
      ],
      "metadata": {
        "id": "H1-62qy1qNrp"
      }
    },
    {
      "cell_type": "code",
      "execution_count": null,
      "metadata": {
        "colab": {
          "base_uri": "https://localhost:8080/",
          "height": 632
        },
        "id": "TEdWD9DjhfEm",
        "outputId": "ab0f26ef-a957-48fa-bddc-ac0d01c77fba"
      },
      "outputs": [
        {
          "output_type": "display_data",
          "data": {
            "text/plain": [
              "<Figure size 2160x720 with 1 Axes>"
            ],
            "image/png": "[encoded data removed]"
          },
          "metadata": {
            "needs_background": "light"
          }
        }
      ],
      "source": [
        "plt.figure(figsize=(30,10));\n",
        "sns.countplot(x=data_td.Weapon_type);"
      ]
    },
    {
      "cell_type": "markdown",
      "source": [
        "It shows that the highest number of cases are observing by Explosive attack, then Firearms."
      ],
      "metadata": {
        "id": "45HueTZwqeZH"
      }
    },
    {
      "cell_type": "markdown",
      "source": [
        "**Show the number of attack in every year by Count Plot**"
      ],
      "metadata": {
        "id": "90GDYaH0rHcu"
      }
    },
    {
      "cell_type": "code",
      "execution_count": null,
      "metadata": {
        "colab": {
          "base_uri": "https://localhost:8080/",
          "height": 374
        },
        "id": "SA91AaQuik6A",
        "outputId": "3313d0e7-cd87-4f75-f8b9-f4675eb2c56b"
      },
      "outputs": [
        {
          "output_type": "display_data",
          "data": {
            "text/plain": [
              "<Figure size 1440x360 with 1 Axes>"
            ],
            "image/png": "[encoded data removed]"
          },
          "metadata": {
            "needs_background": "light"
          }
        }
      ],
      "source": [
        "plt.figure(figsize=(20,5));\n",
        "plt.xticks(rotation = 90)\n",
        "plt.title('Attacks by Year')\n",
        "sns.countplot(x=data_td.Year);"
      ]
    },
    {
      "cell_type": "markdown",
      "source": [
        "Maximum number of attack are covered in 2014 , then 2015 and the less number of attack in the year 1971,1973"
      ],
      "metadata": {
        "id": "0E1vbxsUss6x"
      }
    },
    {
      "cell_type": "markdown",
      "source": [
        "**Attack in every month**"
      ],
      "metadata": {
        "id": "dJuLVRWUtfMK"
      }
    },
    {
      "cell_type": "code",
      "execution_count": null,
      "metadata": {
        "colab": {
          "base_uri": "https://localhost:8080/",
          "height": 357
        },
        "id": "sP5PSRdEi8jP",
        "outputId": "f12b9cec-8d19-4fdd-85e5-59ef05dae5d8"
      },
      "outputs": [
        {
          "output_type": "display_data",
          "data": {
            "text/plain": [
              "<Figure size 1440x360 with 1 Axes>"
            ],
            "image/png": "[encoded data removed]"
          },
          "metadata": {
            "needs_background": "light"
          }
        }
      ],
      "source": [
        "plt.figure(figsize=(20,5));\n",
        "plt.title('Attacks by Month')\n",
        "sns.countplot(x=data_td.Month);"
      ]
    },
    {
      "cell_type": "markdown",
      "source": [
        "It shows in every month there are almost equal contribution by terrorist but in the month of may some maximum number of attacks are done."
      ],
      "metadata": {
        "id": "4UXgBlV-tw7e"
      }
    },
    {
      "cell_type": "markdown",
      "source": [
        "**Attacks in days of a month**"
      ],
      "metadata": {
        "id": "LcGsRMVBuJwJ"
      }
    },
    {
      "cell_type": "code",
      "execution_count": null,
      "metadata": {
        "colab": {
          "base_uri": "https://localhost:8080/",
          "height": 357
        },
        "id": "hGj5o2wljCM_",
        "outputId": "d69d4f2a-68d7-46d4-de56-66263ab7cdc9"
      },
      "outputs": [
        {
          "output_type": "display_data",
          "data": {
            "text/plain": [
              "<Figure size 1440x360 with 1 Axes>"
            ],
            "image/png": "[encoded data removed]"
          },
          "metadata": {
            "needs_background": "light"
          }
        }
      ],
      "source": [
        "plt.figure(figsize=(20,5));\n",
        "plt.title('Attacks by Day')\n",
        "sns.countplot(x=data_td.Day);"
      ]
    },
    {
      "cell_type": "markdown",
      "source": [
        "It shows almost every day same number of attack are done but in the of 1st and 15th maximum cases of attacking are showed in the dataset."
      ],
      "metadata": {
        "id": "3JqHCA9RuT8K"
      }
    },
    {
      "cell_type": "markdown",
      "source": [
        "**Show the number attacks are done in the country by count plot**"
      ],
      "metadata": {
        "id": "tHEwVPEDuvLx"
      }
    },
    {
      "cell_type": "code",
      "execution_count": null,
      "metadata": {
        "colab": {
          "base_uri": "https://localhost:8080/",
          "height": 495
        },
        "id": "tFaoDPvtjTGm",
        "outputId": "ddb3e3a2-c8b0-44e6-e537-bf4829467fe0"
      },
      "outputs": [
        {
          "output_type": "display_data",
          "data": {
            "text/plain": [
              "<Figure size 2160x360 with 1 Axes>"
            ],
            "image/png": "[encoded data removed]"
          },
          "metadata": {
            "needs_background": "light"
          }
        }
      ],
      "source": [
        "plt.figure(figsize=(30,5));\n",
        "plt.rcParams.update({'font.size':8});\n",
        "plt.xticks(rotation = 90)\n",
        "plt.title('Attacks by Country')\n",
        "sns.countplot(x=data_td.Country);"
      ]
    },
    {
      "cell_type": "markdown",
      "source": [
        "It shows that maximum number of cases are come from the country Iraq and then Pakistan followed by Afganisthan then India."
      ],
      "metadata": {
        "id": "QqPiir4hvKbD"
      }
    },
    {
      "cell_type": "markdown",
      "source": [
        "**Show the number of attacks done in the Region by count plot**"
      ],
      "metadata": {
        "id": "FhqT4akCvi23"
      }
    },
    {
      "cell_type": "code",
      "execution_count": null,
      "metadata": {
        "colab": {
          "base_uri": "https://localhost:8080/",
          "height": 370
        },
        "id": "iMMD8FxDjayV",
        "outputId": "dcd1a0c0-5d7b-4135-e6d6-bee341ff75f6"
      },
      "outputs": [
        {
          "output_type": "display_data",
          "data": {
            "text/plain": [
              "<Figure size 2016x360 with 1 Axes>"
            ],
            "image/png": "[encoded data removed]"
          },
          "metadata": {
            "needs_background": "light"
          }
        }
      ],
      "source": [
        "plt.figure(figsize=(28,5));\n",
        "plt.rcParams.update({'font.size':10});\n",
        "plt.xticks(rotation = 0)\n",
        "plt.title('Attacks by Region')\n",
        "sns.countplot(x=data_td.Region);"
      ]
    },
    {
      "cell_type": "markdown",
      "source": [
        "It shows that in the Region of Middle East & North Africa maximum number of cases come and then South Asia followed by South America and western Europe."
      ],
      "metadata": {
        "id": "THqxAPCHv1_q"
      }
    },
    {
      "cell_type": "markdown",
      "source": [
        "**Show the targetted type data by count plot**"
      ],
      "metadata": {
        "id": "USONCd0Pwt0x"
      }
    },
    {
      "cell_type": "code",
      "execution_count": null,
      "metadata": {
        "colab": {
          "base_uri": "https://localhost:8080/",
          "height": 470
        },
        "id": "H5o2rbTljnnt",
        "outputId": "4b34a9c5-fc95-4684-ef8f-dde133e5ce21"
      },
      "outputs": [
        {
          "output_type": "display_data",
          "data": {
            "text/plain": [
              "<Figure size 1440x360 with 1 Axes>"
            ],
            "image/png": "[encoded data removed]"
          },
          "metadata": {
            "needs_background": "light"
          }
        }
      ],
      "source": [
        "plt.figure(figsize=(20,5));\n",
        "plt.rcParams.update({'font.size':10});\n",
        "plt.xticks(rotation = 60)\n",
        "plt.title('Based on Target type')\n",
        "sns.countplot(x=data_td.Target_type);"
      ]
    },
    {
      "cell_type": "markdown",
      "source": [
        "The above count plot shows that Private Citizens and Property are maximum affected by terrorist and then Military followed by Police then Government."
      ],
      "metadata": {
        "id": "mY6KKtTtxHIS"
      }
    },
    {
      "cell_type": "markdown",
      "source": [
        "**Show the count plot of Attack procedure used by terrorist**"
      ],
      "metadata": {
        "id": "A2XtFG-IxjwD"
      }
    },
    {
      "cell_type": "code",
      "execution_count": null,
      "metadata": {
        "colab": {
          "base_uri": "https://localhost:8080/",
          "height": 377
        },
        "id": "pXV4wzW9j8jL",
        "outputId": "0ddf6d5e-fdec-4cd9-9c5f-c928dc4c26ac"
      },
      "outputs": [
        {
          "output_type": "display_data",
          "data": {
            "text/plain": [
              "<Figure size 1800x360 with 1 Axes>"
            ],
            "image/png": "[encoded data removed]"
          },
          "metadata": {
            "needs_background": "light"
          }
        }
      ],
      "source": [
        "plt.figure(figsize=(25,5));\n",
        "plt.rcParams.update({'font.size':12});\n",
        "plt.xticks(rotation = 0)\n",
        "plt.title('Based on Attack type')\n",
        "sns.countplot(x=data_td.Attack_type);"
      ]
    },
    {
      "cell_type": "markdown",
      "source": [
        "The above count plot shows that the maximum attacks are covered by Bombing and then Armed Assault."
      ],
      "metadata": {
        "id": "KY2oYqHox1Tr"
      }
    },
    {
      "cell_type": "markdown",
      "metadata": {
        "id": "Xg9jY07d2yOX"
      },
      "source": [
        "**US Terror attack death injuries**"
      ]
    },
    {
      "cell_type": "code",
      "execution_count": null,
      "metadata": {
        "colab": {
          "base_uri": "https://localhost:8080/",
          "height": 1000
        },
        "id": "U8As_5RKkCUe",
        "outputId": "bb6638cf-412d-434c-8a28-2564d4b65392"
      },
      "outputs": [
        {
          "output_type": "display_data",
          "data": {
            "text/plain": [
              "<Figure size 1440x1440 with 1 Axes>"
            ],
            "image/png": "[encoded data removed]"
          },
          "metadata": {
            "needs_background": "light"
          }
        }
      ],
      "source": [
        "data_td.nkillus.plot(kind='line',color='red',label='The number of Total confirmed Fatalities for US',linewidth=2,alpha=0.8,grid='NE',linestyle=':',figsize=(20,20),fontsize=15)\n",
        "data_td.nwoundus.plot(kind='line',color='green',label='The number of Total confirmed Non-Fatal injuries for US',linewidth=2,alpha=0.8,grid='NE',linestyle='-.',figsize=(20,20),fontsize=15)\n",
        "plt.legend(loc='upper right')\n",
        "plt.xlabel('Database Index', fontsize=10)\n",
        "plt.ylabel('Number of Dead or Injuries', fontsize=15)\n",
        "\n",
        "plt.title('Confirmed Fatalties & Non-Fatal Injuries for US')\n",
        "plt.show()"
      ]
    },
    {
      "cell_type": "markdown",
      "metadata": {
        "id": "MKVn1gb7f5tb"
      },
      "source": [
        "**Death and Injuries at all time**"
      ]
    },
    {
      "cell_type": "code",
      "execution_count": null,
      "metadata": {
        "colab": {
          "base_uri": "https://localhost:8080/",
          "height": 1000
        },
        "id": "XqxWV1fNhATX",
        "outputId": "c6a093bf-7680-4057-b9bf-fc96c5069d2d"
      },
      "outputs": [
        {
          "output_type": "display_data",
          "data": {
            "text/plain": [
              "<Figure size 1440x1440 with 1 Axes>"
            ],
            "image/png": "[encoded data removed]"
          },
          "metadata": {
            "needs_background": "light"
          }
        }
      ],
      "source": [
        "data_td.plot(kind = 'scatter', x = 'nkill', y = 'nwound', alpha = 0.5, color = 'red', figsize = (20,20), fontsize = 15)\n",
        "plt.xlabel('kill', fontsize = 15)\n",
        "plt.ylabel('wound', fontsize = 15)\n",
        "plt.title(\"Kill-Wound Scatter Plot\")\n",
        "plt.show()"
      ]
    },
    {
      "cell_type": "markdown",
      "source": [
        "**Frequency of terrorist action in Customize region**"
      ],
      "metadata": {
        "id": "FVkmvic83TGr"
      }
    },
    {
      "cell_type": "markdown",
      "source": [
        "**Let's analyse the middle east and north asia**"
      ],
      "metadata": {
        "id": "vnYFyB8P3c_E"
      }
    },
    {
      "cell_type": "code",
      "source": [
        "middleEastData = data_td[data_td['region'] == 10]\n",
        "middleEastData.Year.plot(kind = 'hist', bins = 30, figsize = (20,20), color = 'purple', fontsize=15)\n",
        "plt.xlabel('Year', fontsize=15)\n",
        "plt.ylabel('Frequency', fontsize=15)\n",
        "plt.title('Frequency of Middle East & North Africa Terrorism Actions by years')\n",
        "plt.show()"
      ],
      "metadata": {
        "id": "yV6RiQQZ3lVx",
        "colab": {
          "base_uri": "https://localhost:8080/",
          "height": 1000
        },
        "outputId": "5fec9050-dd11-46c7-d095-1531fe84451a"
      },
      "execution_count": null,
      "outputs": [
        {
          "output_type": "display_data",
          "data": {
            "text/plain": [
              "<Figure size 1440x1440 with 1 Axes>"
            ],
            "image/png": "[encoded data removed]"
          },
          "metadata": {
            "needs_background": "light"
          }
        }
      ]
    },
    {
      "cell_type": "code",
      "source": [
        "data_td.nkillus.plot(kind='line',color='red',label='People Dead of Terrorism in the world',linewidth=1.5,alpha=0.8,grid='TRUE',linestyle=':',figsize=(20,20),fontsize=15)\n",
        "middleEastData.nkillus.plot(color='green',label='People Dead of Terrorism in the Middle East & North Africa',linewidth=1.5,alpha=0.8,grid='TRUE',linestyle='-.',figsize=(20,20),fontsize=15)\n",
        "plt.legend(loc='upper right')\n",
        "plt.xlabel('Database Index', fontsize=10)\n",
        "plt.ylabel('Number of Dead or Injuries', fontsize=15)\n",
        "\n",
        "plt.title('Comparing those who died in terror attacks in the world and Middle East & North Africa')\n",
        "plt.show()"
      ],
      "metadata": {
        "colab": {
          "base_uri": "https://localhost:8080/",
          "height": 1000
        },
        "id": "PjaZVMl17bGN",
        "outputId": "e352ead0-7c4b-4af7-81d2-63bdc63cd140"
      },
      "execution_count": null,
      "outputs": [
        {
          "output_type": "display_data",
          "data": {
            "text/plain": [
              "<Figure size 1440x1440 with 1 Axes>"
            ],
            "image/png": "[encoded data removed]"
          },
          "metadata": {
            "needs_background": "light"
          }
        }
      ]
    },
    {
      "cell_type": "code",
      "source": [
        "killdata = data_td.loc[:,'nkill']\n",
        "print('Number of people killed by terror attack:', int(sum(killdata.dropna())))"
      ],
      "metadata": {
        "colab": {
          "base_uri": "https://localhost:8080/"
        },
        "id": "eg0Ty85n9dDQ",
        "outputId": "4feb9592-faa0-4776-fc84-3e130fdab482"
      },
      "execution_count": null,
      "outputs": [
        {
          "output_type": "stream",
          "name": "stdout",
          "text": [
            "Number of people killed by terror attack: 411868\n"
          ]
        }
      ]
    },
    {
      "cell_type": "code",
      "source": [
        "Attack_type = data_td.loc[:,'Attack_type':'Attack_type']\n",
        "typeKillData = pd.concat([Attack_type, killdata], axis=1)"
      ],
      "metadata": {
        "id": "4bpbomWw_adX"
      },
      "execution_count": null,
      "outputs": []
    },
    {
      "cell_type": "code",
      "source": [
        "typeKillFormatData = typeKillData.pivot_table(columns='Attack_type', values='nkill', aggfunc='sum')\n",
        "typeKillFormatData\n"
      ],
      "metadata": {
        "colab": {
          "base_uri": "https://localhost:8080/",
          "height": 142
        },
        "id": "n7CoSawUAM5i",
        "outputId": "e471ed01-9d88-4c73-de09-a25fece56742"
      },
      "execution_count": null,
      "outputs": [
        {
          "output_type": "execute_result",
          "data": {
            "text/plain": [
              "Attack_type  Armed Assault  Assassination  Bombing/Explosion  \\\n",
              "nkill             160297.0        24920.0           157321.0   \n",
              "\n",
              "Attack_type  Facility/Infrastructure Attack  Hijacking  \\\n",
              "nkill                                3642.0     3718.0   \n",
              "\n",
              "Attack_type  Hostage Taking (Barricade Incident)  Hostage Taking (Kidnapping)  \\\n",
              "nkill                                     4478.0                      24231.0   \n",
              "\n",
              "Attack_type  Unarmed Assault  Unknown  \n",
              "nkill                  880.0  32381.0  "
            ],
            "text/html": [
              "\n",
              "  <div id=\"df-1958946f-5a11-4637-abb7-e0587e7bac6f\">\n",
              "    <div class=\"colab-df-container\">\n",
              "      <div>\n",
              "<style scoped>\n",
              "    .dataframe tbody tr th:only-of-type {\n",
              "        vertical-align: middle;\n",
              "    }\n",
              "\n",
              "    .dataframe tbody tr th {\n",
              "        vertical-align: top;\n",
              "    }\n",
              "\n",
              "    .dataframe thead th {\n",
              "        text-align: right;\n",
              "    }\n",
              "</style>\n",
              "<table border=\"1\" class=\"dataframe\">\n",
              "  <thead>\n",
              "    <tr style=\"text-align: right;\">\n",
              "      <th>Attack_type</th>\n",
              "      <th>Armed Assault</th>\n",
              "      <th>Assassination</th>\n",
              "      <th>Bombing/Explosion</th>\n",
              "      <th>Facility/Infrastructure Attack</th>\n",
              "      <th>Hijacking</th>\n",
              "      <th>Hostage Taking (Barricade Incident)</th>\n",
              "      <th>Hostage Taking (Kidnapping)</th>\n",
              "      <th>Unarmed Assault</th>\n",
              "      <th>Unknown</th>\n",
              "    </tr>\n",
              "  </thead>\n",
              "  <tbody>\n",
              "    <tr>\n",
              "      <th>nkill</th>\n",
              "      <td>160297.0</td>\n",
              "      <td>24920.0</td>\n",
              "      <td>157321.0</td>\n",
              "      <td>3642.0</td>\n",
              "      <td>3718.0</td>\n",
              "      <td>4478.0</td>\n",
              "      <td>24231.0</td>\n",
              "      <td>880.0</td>\n",
              "      <td>32381.0</td>\n",
              "    </tr>\n",
              "  </tbody>\n",
              "</table>\n",
              "</div>\n",
              "      <button class=\"colab-df-convert\" onclick=\"convertToInteractive('df-1958946f-5a11-4637-abb7-e0587e7bac6f')\"\n",
              "              title=\"Convert this dataframe to an interactive table.\"\n",
              "              style=\"display:none;\">\n",
              "        \n",
              "  <svg xmlns=\"http://www.w3.org/2000/svg\" height=\"24px\"viewBox=\"0 0 24 24\"\n",
              "       width=\"24px\">\n",
              "    <path d=\"M0 0h24v24H0V0z\" fill=\"none\"/>\n",
              "    <path d=\"M18.56 5.44l.94 2.06.94-2.06 2.06-.94-2.06-.94-.94-2.06-.94 2.06-2.06.94zm-11 1L8.5 8.5l.94-2.06 2.06-.94-2.06-.94L8.5 2.5l-.94 2.06-2.06.94zm10 10l.94 2.06.94-2.06 2.06-.94-2.06-.94-.94-2.06-.94 2.06-2.06.94z\"/><path d=\"M17.41 7.96l-1.37-1.37c-.4-.4-.92-.59-1.43-.59-.52 0-1.04.2-1.43.59L10.3 9.45l-7.72 7.72c-.78.78-.78 2.05 0 2.83L4 21.41c.39.39.9.59 1.41.59.51 0 1.02-.2 1.41-.59l7.78-7.78 2.81-2.81c.8-.78.8-2.07 0-2.86zM5.41 20L4 18.59l7.72-7.72 1.47 1.35L5.41 20z\"/>\n",
              "  </svg>\n",
              "      </button>\n",
              "      \n",
              "  <style>\n",
              "    .colab-df-container {\n",
              "      display:flex;\n",
              "      flex-wrap:wrap;\n",
              "      gap: 12px;\n",
              "    }\n",
              "\n",
              "    .colab-df-convert {\n",
              "      background-color: #E8F0FE;\n",
              "      border: none;\n",
              "      border-radius: 50%;\n",
              "      cursor: pointer;\n",
              "      display: none;\n",
              "      fill: #1967D2;\n",
              "      height: 32px;\n",
              "      padding: 0 0 0 0;\n",
              "      width: 32px;\n",
              "    }\n",
              "\n",
              "    .colab-df-convert:hover {\n",
              "      background-color: #E2EBFA;\n",
              "      box-shadow: 0px 1px 2px rgba(60, 64, 67, 0.3), 0px 1px 3px 1px rgba(60, 64, 67, 0.15);\n",
              "      fill: #174EA6;\n",
              "    }\n",
              "\n",
              "    [theme=dark] .colab-df-convert {\n",
              "      background-color: #3B4455;\n",
              "      fill: #D2E3FC;\n",
              "    }\n",
              "\n",
              "    [theme=dark] .colab-df-convert:hover {\n",
              "      background-color: #434B5C;\n",
              "      box-shadow: 0px 1px 3px 1px rgba(0, 0, 0, 0.15);\n",
              "      filter: drop-shadow(0px 1px 2px rgba(0, 0, 0, 0.3));\n",
              "      fill: #FFFFFF;\n",
              "    }\n",
              "  </style>\n",
              "\n",
              "      <script>\n",
              "        const buttonEl =\n",
              "          document.querySelector('#df-1958946f-5a11-4637-abb7-e0587e7bac6f button.colab-df-convert');\n",
              "        buttonEl.style.display =\n",
              "          google.colab.kernel.accessAllowed ? 'block' : 'none';\n",
              "\n",
              "        async function convertToInteractive(key) {\n",
              "          const element = document.querySelector('#df-1958946f-5a11-4637-abb7-e0587e7bac6f');\n",
              "          const dataTable =\n",
              "            await google.colab.kernel.invokeFunction('convertToInteractive',\n",
              "                                                     [key], {});\n",
              "          if (!dataTable) return;\n",
              "\n",
              "          const docLinkHtml = 'Like what you see? Visit the ' +\n",
              "            '<a target=\"_blank\" href=https://colab.research.google.com/notebooks/data_table.ipynb>data table notebook</a>'\n",
              "            + ' to learn more about interactive tables.';\n",
              "          element.innerHTML = '';\n",
              "          dataTable['output_type'] = 'display_data';\n",
              "          await google.colab.output.renderOutput(dataTable, element);\n",
              "          const docLink = document.createElement('div');\n",
              "          docLink.innerHTML = docLinkHtml;\n",
              "          element.appendChild(docLink);\n",
              "        }\n",
              "      </script>\n",
              "    </div>\n",
              "  </div>\n",
              "  "
            ]
          },
          "metadata": {},
          "execution_count": 212
        }
      ]
    },
    {
      "cell_type": "code",
      "source": [
        "typeKillFormatData.info()"
      ],
      "metadata": {
        "colab": {
          "base_uri": "https://localhost:8080/"
        },
        "id": "qhQfYui1IAX_",
        "outputId": "d27fcc94-02da-4c0b-9e77-d9a6d6e6bbc6"
      },
      "execution_count": null,
      "outputs": [
        {
          "output_type": "stream",
          "name": "stdout",
          "text": [
            "<class 'pandas.core.frame.DataFrame'>\n",
            "Index: 1 entries, nkill to nkill\n",
            "Data columns (total 9 columns):\n",
            " #   Column                               Non-Null Count  Dtype  \n",
            "---  ------                               --------------  -----  \n",
            " 0   Armed Assault                        1 non-null      float64\n",
            " 1   Assassination                        1 non-null      float64\n",
            " 2   Bombing/Explosion                    1 non-null      float64\n",
            " 3   Facility/Infrastructure Attack       1 non-null      float64\n",
            " 4   Hijacking                            1 non-null      float64\n",
            " 5   Hostage Taking (Barricade Incident)  1 non-null      float64\n",
            " 6   Hostage Taking (Kidnapping)          1 non-null      float64\n",
            " 7   Unarmed Assault                      1 non-null      float64\n",
            " 8   Unknown                              1 non-null      float64\n",
            "dtypes: float64(9)\n",
            "memory usage: 188.0+ bytes\n"
          ]
        }
      ]
    },
    {
      "cell_type": "code",
      "source": [
        "labels = typeKillFormatData.columns.tolist()\n",
        "transpose = typeKillFormatData.T\n",
        "values = transpose.values.tolist()\n",
        "fig, ax = plt.subplots(figsize=(20, 10),subplot_kw=dict(aspect=\"equal\"))\n",
        "plt.pie(values, startangle=90, autopct='%.2f%%')\n",
        "plt.title('Types of Terrorist attacks that cause death')\n",
        "plt.legend(labels, loc='upper right',bbox_to_anchor = (1.5,0.5), fontsize=15)\n",
        "plt.show()"
      ],
      "metadata": {
        "colab": {
          "base_uri": "https://localhost:8080/",
          "height": 591
        },
        "id": "QyZU_CJhIWnN",
        "outputId": "51b980fa-0865-42de-f0af-c3b34040f64a"
      },
      "execution_count": null,
      "outputs": [
        {
          "output_type": "display_data",
          "data": {
            "text/plain": [
              "<Figure size 1440x720 with 1 Axes>"
            ],
            "image/png": "[encoded data removed]"
          },
          "metadata": {}
        }
      ]
    },
    {
      "cell_type": "markdown",
      "source": [
        "\n",
        "# **Thank you!**"
      ],
      "metadata": {
        "id": "BEOw4tkz86Bz"
      }
    }
  ],
  "metadata": {
    "colab": {
      "name": "Terrorism_Data_Analysis.ipynb",
      "provenance": []
    },
    "kernelspec": {
      "display_name": "Python 3",
      "name": "python3"
    },
    "language_info": {
      "name": "python"
    }
  },
  "nbformat": 4,
  "nbformat_minor": 0
}